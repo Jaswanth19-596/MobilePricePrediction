{
 "cells": [
  {
   "cell_type": "code",
   "execution_count": 1,
   "id": "0202aa37",
   "metadata": {},
   "outputs": [],
   "source": [
    "import pandas as pd\n",
    "import numpy as np\n",
    "import matplotlib.pyplot as plt\n",
    "import seaborn as sns"
   ]
  },
  {
   "cell_type": "code",
   "execution_count": 2,
   "id": "75011a9f",
   "metadata": {},
   "outputs": [],
   "source": [
    "df = pd.read_csv('./../data/processed/After_02_Fixing_Datatypes.csv')"
   ]
  },
  {
   "cell_type": "markdown",
   "id": "fca3f947",
   "metadata": {},
   "source": [
    "#### 1. Display_Size\n",
    "\n",
    "    Fixing:\n",
    "        - There are 289 devices whose display size > 8 inches\n",
    "        - All the devices > 8 inches except the foldable are tabs => Remove the tabs from the data.\n",
    "        - All devices having display size < 4 are feature phones => Remove them.\n"
   ]
  },
  {
   "cell_type": "code",
   "execution_count": 3,
   "id": "f9dab4f8",
   "metadata": {},
   "outputs": [],
   "source": [
    "# Removing all the feature phones\n",
    "df = df[df['Display_Size'] >= 4]\n",
    "\n",
    "# Removing all the tabs\n",
    "df = df[(df['Display_Size'] < 8) | ((df['Display_Size'] >= 8) & df['is_foldable_phone'] == True)]\n"
   ]
  },
  {
   "cell_type": "markdown",
   "id": "d681faab",
   "metadata": {},
   "source": [
    "#### 2. Battery_Capacity\n",
    "\n",
    "    - All of the issues are fixed by the Display Size.\n",
    "    - Feels Great.\n",
    "\n",
    "    Fixing:\n",
    "        Phones : Oukitel WP19, Doogee V Max, Doogee S100 Pro, Oukitel WP33 Pro, Blackview BV9300, Doogee V Max Plus\n",
    "        Doogee V Max Pro, Ulefone Armor 24, Doogee Fire 6 Power, Doogee Fire 6 Max, Ulefone Armor 26 Ultra\n",
    "\n",
    "        All of the above are the phones and the rest of the devices having battery capacity > 15000 are tablets.\n",
    "\n",
    "        - Keep the above devices and remove all the other devices whose battery capacity > 15000.\n"
   ]
  },
  {
   "cell_type": "markdown",
   "id": "2933a7ba",
   "metadata": {},
   "source": [
    "#### 3. Price_In_Dollars\n",
    "\n",
    "    - Fixing :\n",
    "        - There is one phone which is costing 9999 dollars, which is an error.\n",
    "        - There is one phone which is > 5000 dollars, distorting the distribution. Remove these two phones.\n",
    "        - Log transform the prices which are still looking like outliers.\n"
   ]
  },
  {
   "cell_type": "code",
   "execution_count": 4,
   "id": "dc684cfe",
   "metadata": {},
   "outputs": [],
   "source": [
    "df = df[df['Price_In_Dollars'] < 5000]"
   ]
  },
  {
   "cell_type": "markdown",
   "id": "8b4e47f6",
   "metadata": {},
   "source": [
    "#### 4. Total_Pixels\n",
    "\n",
    "    Fixing :\n",
    "         - All the phones which are having > 6000000 pixels and are from sony are discontinued. So remove these particular phones.\n"
   ]
  },
  {
   "cell_type": "code",
   "execution_count": 5,
   "id": "66332bea",
   "metadata": {},
   "outputs": [],
   "source": [
    "df = df[df['Total_Pixels'] < 6000000]"
   ]
  },
  {
   "cell_type": "markdown",
   "id": "2c32dbe7",
   "metadata": {},
   "source": [
    "#### 5. number_of_2g_bands\n",
    "\n",
    "    Fixing:\n",
    "    - Combine 5 with 4 and 1 with 2 to take care of the rare categories.\n"
   ]
  },
  {
   "cell_type": "code",
   "execution_count": 6,
   "id": "ce2e904c",
   "metadata": {},
   "outputs": [],
   "source": [
    "df['number_of_2g_bands'] = df['number_of_2g_bands'].replace(1.0, 2.0)"
   ]
  },
  {
   "cell_type": "markdown",
   "id": "df08f2d9",
   "metadata": {},
   "source": [
    "#### 6. thickness\n",
    "\n",
    "    Fixing:\n",
    "        - The phones which are having thickness < 2 are having thickness in inches => Convert to Millimeters.\n",
    "        - The phones which are having thickness == 0, it is wrong, fill these values manually.\n",
    "        - The thickness which are on the greater side are valid and are not wrong values.\n"
   ]
  },
  {
   "cell_type": "code",
   "execution_count": 7,
   "id": "bbdfa0e1",
   "metadata": {},
   "outputs": [],
   "source": [
    "def modifythickness(thickness):\n",
    "    if thickness == 0.00:\n",
    "        return 9\n",
    "    else:\n",
    "        return 11.43"
   ]
  },
  {
   "cell_type": "code",
   "execution_count": 8,
   "id": "aaf67bf2",
   "metadata": {},
   "outputs": [],
   "source": [
    "df.loc[df['thickness'] < 2, 'thickness'] = df[df['thickness'] < 2]['thickness'].apply(modifythickness)"
   ]
  },
  {
   "cell_type": "markdown",
   "id": "cc326b22",
   "metadata": {},
   "source": [
    "#### 7. PPI\n",
    "\n",
    "    - Automatically got resolved\n",
    "    - Feels amazing.\n",
    "\n",
    "    Fixing :\n",
    "        - The Phones with PPI > 600 are mostly from Sony and most of the phones got discontinued, so their value has been dropped.\n",
    "        - These phones will have a negative impact on the ML model.\n",
    "        - Drop the phones which are having PPI > 600 and price < 500 dollars.\n"
   ]
  },
  {
   "cell_type": "code",
   "execution_count": 9,
   "id": "b60760b4",
   "metadata": {},
   "outputs": [
    {
     "data": {
      "text/html": [
       "<div>\n",
       "<style scoped>\n",
       "    .dataframe tbody tr th:only-of-type {\n",
       "        vertical-align: middle;\n",
       "    }\n",
       "\n",
       "    .dataframe tbody tr th {\n",
       "        vertical-align: top;\n",
       "    }\n",
       "\n",
       "    .dataframe thead th {\n",
       "        text-align: right;\n",
       "    }\n",
       "</style>\n",
       "<table border=\"1\" class=\"dataframe\">\n",
       "  <thead>\n",
       "    <tr style=\"text-align: right;\">\n",
       "      <th></th>\n",
       "      <th>Name</th>\n",
       "      <th>Sound_3.5mmjack</th>\n",
       "      <th>Brand</th>\n",
       "      <th>Model</th>\n",
       "      <th>has_LTE</th>\n",
       "      <th>has_5G</th>\n",
       "      <th>has_CDMA</th>\n",
       "      <th>has_CDMA2000</th>\n",
       "      <th>has_EVDO</th>\n",
       "      <th>number_of_sims</th>\n",
       "      <th>...</th>\n",
       "      <th>max_FPS</th>\n",
       "      <th>ram</th>\n",
       "      <th>Total_Pixels</th>\n",
       "      <th>number_of_camera_features</th>\n",
       "      <th>maincamera_mp</th>\n",
       "      <th>selfiecamera_mp</th>\n",
       "      <th>latest_wifi_version</th>\n",
       "      <th>Bluetooth_version</th>\n",
       "      <th>has_nfc</th>\n",
       "      <th>USB_Type</th>\n",
       "    </tr>\n",
       "  </thead>\n",
       "  <tbody>\n",
       "  </tbody>\n",
       "</table>\n",
       "<p>0 rows × 64 columns</p>\n",
       "</div>"
      ],
      "text/plain": [
       "Empty DataFrame\n",
       "Columns: [Name, Sound_3.5mmjack, Brand, Model, has_LTE, has_5G, has_CDMA, has_CDMA2000, has_EVDO, number_of_sims, number_of_2g_bands, aws_support, number_of_3g_bands, is_foldable_phone, thickness, has_Nano_SIM, has_Micro_SIM, has_Mini_SIM, has_eSIM, has_SIM_Type_Specified, has_memory_card, memory_type_microSDXC, memory_type_microSDHC, Battery_Is_removable, Battery_Capacity, Battery_Type_Lithium, Sound_has_stereo_speakers, camera_hdr, camera_laser_af, camera_panorama, GPU_company, Number_of_cores, CPU_Brand, CPU_Transistor_Size, CPU_Model, Is_OS_Upgradable, os_version, Resolution_Width, Resolution_Height, PPI, Display_Size, Price_In_Dollars, has_8k, has_4k, has_1440p, has_1080p, has_720p, has_480p, has_EIS, has_HDR, has_stereo, has_dolby_vision, has_OIS, max_resolution, max_FPS, ram, Total_Pixels, number_of_camera_features, maincamera_mp, selfiecamera_mp, latest_wifi_version, Bluetooth_version, has_nfc, USB_Type]\n",
       "Index: []\n",
       "\n",
       "[0 rows x 64 columns]"
      ]
     },
     "execution_count": 9,
     "metadata": {},
     "output_type": "execute_result"
    }
   ],
   "source": [
    "df[df['PPI'] > 600]"
   ]
  },
  {
   "cell_type": "markdown",
   "id": "7db27da9",
   "metadata": {},
   "source": [
    "8. Resolution_Width\n",
    "\n",
    "   - Automatically Got resolved\n",
    "   - Feels fantastic\n",
    "\n",
    "   Fixing:\n",
    "\n",
    "   - Most of the phones which are having Resolution_Width > 2500 are tabs. Remove those.\n"
   ]
  },
  {
   "cell_type": "code",
   "execution_count": 10,
   "id": "39bae593",
   "metadata": {},
   "outputs": [
    {
     "data": {
      "text/html": [
       "<div>\n",
       "<style scoped>\n",
       "    .dataframe tbody tr th:only-of-type {\n",
       "        vertical-align: middle;\n",
       "    }\n",
       "\n",
       "    .dataframe tbody tr th {\n",
       "        vertical-align: top;\n",
       "    }\n",
       "\n",
       "    .dataframe thead th {\n",
       "        text-align: right;\n",
       "    }\n",
       "</style>\n",
       "<table border=\"1\" class=\"dataframe\">\n",
       "  <thead>\n",
       "    <tr style=\"text-align: right;\">\n",
       "      <th></th>\n",
       "      <th>Name</th>\n",
       "      <th>Sound_3.5mmjack</th>\n",
       "      <th>Brand</th>\n",
       "      <th>Model</th>\n",
       "      <th>has_LTE</th>\n",
       "      <th>has_5G</th>\n",
       "      <th>has_CDMA</th>\n",
       "      <th>has_CDMA2000</th>\n",
       "      <th>has_EVDO</th>\n",
       "      <th>number_of_sims</th>\n",
       "      <th>...</th>\n",
       "      <th>max_FPS</th>\n",
       "      <th>ram</th>\n",
       "      <th>Total_Pixels</th>\n",
       "      <th>number_of_camera_features</th>\n",
       "      <th>maincamera_mp</th>\n",
       "      <th>selfiecamera_mp</th>\n",
       "      <th>latest_wifi_version</th>\n",
       "      <th>Bluetooth_version</th>\n",
       "      <th>has_nfc</th>\n",
       "      <th>USB_Type</th>\n",
       "    </tr>\n",
       "  </thead>\n",
       "  <tbody>\n",
       "  </tbody>\n",
       "</table>\n",
       "<p>0 rows × 64 columns</p>\n",
       "</div>"
      ],
      "text/plain": [
       "Empty DataFrame\n",
       "Columns: [Name, Sound_3.5mmjack, Brand, Model, has_LTE, has_5G, has_CDMA, has_CDMA2000, has_EVDO, number_of_sims, number_of_2g_bands, aws_support, number_of_3g_bands, is_foldable_phone, thickness, has_Nano_SIM, has_Micro_SIM, has_Mini_SIM, has_eSIM, has_SIM_Type_Specified, has_memory_card, memory_type_microSDXC, memory_type_microSDHC, Battery_Is_removable, Battery_Capacity, Battery_Type_Lithium, Sound_has_stereo_speakers, camera_hdr, camera_laser_af, camera_panorama, GPU_company, Number_of_cores, CPU_Brand, CPU_Transistor_Size, CPU_Model, Is_OS_Upgradable, os_version, Resolution_Width, Resolution_Height, PPI, Display_Size, Price_In_Dollars, has_8k, has_4k, has_1440p, has_1080p, has_720p, has_480p, has_EIS, has_HDR, has_stereo, has_dolby_vision, has_OIS, max_resolution, max_FPS, ram, Total_Pixels, number_of_camera_features, maincamera_mp, selfiecamera_mp, latest_wifi_version, Bluetooth_version, has_nfc, USB_Type]\n",
       "Index: []\n",
       "\n",
       "[0 rows x 64 columns]"
      ]
     },
     "execution_count": 10,
     "metadata": {},
     "output_type": "execute_result"
    }
   ],
   "source": [
    "df[df['Resolution_Width'] > 2500]"
   ]
  },
  {
   "cell_type": "markdown",
   "id": "a34c04fa",
   "metadata": {},
   "source": [
    "#### 9. Resolution_Height\n",
    "\n",
    "    - Automatically got resolved.\n",
    "    - Feels phenomenal.\n",
    "\n",
    "    Fixing:\n",
    "        - The phone having Resolution height < 200 is a feature phone => Remove it. - All the phones having resolution height > 3500 are not having actual prices. So remove them.\n"
   ]
  },
  {
   "cell_type": "code",
   "execution_count": 11,
   "id": "ffa58dda",
   "metadata": {},
   "outputs": [
    {
     "data": {
      "text/html": [
       "<div>\n",
       "<style scoped>\n",
       "    .dataframe tbody tr th:only-of-type {\n",
       "        vertical-align: middle;\n",
       "    }\n",
       "\n",
       "    .dataframe tbody tr th {\n",
       "        vertical-align: top;\n",
       "    }\n",
       "\n",
       "    .dataframe thead th {\n",
       "        text-align: right;\n",
       "    }\n",
       "</style>\n",
       "<table border=\"1\" class=\"dataframe\">\n",
       "  <thead>\n",
       "    <tr style=\"text-align: right;\">\n",
       "      <th></th>\n",
       "      <th>Name</th>\n",
       "      <th>Sound_3.5mmjack</th>\n",
       "      <th>Brand</th>\n",
       "      <th>Model</th>\n",
       "      <th>has_LTE</th>\n",
       "      <th>has_5G</th>\n",
       "      <th>has_CDMA</th>\n",
       "      <th>has_CDMA2000</th>\n",
       "      <th>has_EVDO</th>\n",
       "      <th>number_of_sims</th>\n",
       "      <th>...</th>\n",
       "      <th>max_FPS</th>\n",
       "      <th>ram</th>\n",
       "      <th>Total_Pixels</th>\n",
       "      <th>number_of_camera_features</th>\n",
       "      <th>maincamera_mp</th>\n",
       "      <th>selfiecamera_mp</th>\n",
       "      <th>latest_wifi_version</th>\n",
       "      <th>Bluetooth_version</th>\n",
       "      <th>has_nfc</th>\n",
       "      <th>USB_Type</th>\n",
       "    </tr>\n",
       "  </thead>\n",
       "  <tbody>\n",
       "  </tbody>\n",
       "</table>\n",
       "<p>0 rows × 64 columns</p>\n",
       "</div>"
      ],
      "text/plain": [
       "Empty DataFrame\n",
       "Columns: [Name, Sound_3.5mmjack, Brand, Model, has_LTE, has_5G, has_CDMA, has_CDMA2000, has_EVDO, number_of_sims, number_of_2g_bands, aws_support, number_of_3g_bands, is_foldable_phone, thickness, has_Nano_SIM, has_Micro_SIM, has_Mini_SIM, has_eSIM, has_SIM_Type_Specified, has_memory_card, memory_type_microSDXC, memory_type_microSDHC, Battery_Is_removable, Battery_Capacity, Battery_Type_Lithium, Sound_has_stereo_speakers, camera_hdr, camera_laser_af, camera_panorama, GPU_company, Number_of_cores, CPU_Brand, CPU_Transistor_Size, CPU_Model, Is_OS_Upgradable, os_version, Resolution_Width, Resolution_Height, PPI, Display_Size, Price_In_Dollars, has_8k, has_4k, has_1440p, has_1080p, has_720p, has_480p, has_EIS, has_HDR, has_stereo, has_dolby_vision, has_OIS, max_resolution, max_FPS, ram, Total_Pixels, number_of_camera_features, maincamera_mp, selfiecamera_mp, latest_wifi_version, Bluetooth_version, has_nfc, USB_Type]\n",
       "Index: []\n",
       "\n",
       "[0 rows x 64 columns]"
      ]
     },
     "execution_count": 11,
     "metadata": {},
     "output_type": "execute_result"
    }
   ],
   "source": [
    "df[df['Resolution_Height'] < 200]"
   ]
  },
  {
   "cell_type": "code",
   "execution_count": 12,
   "id": "bdef78c2",
   "metadata": {},
   "outputs": [
    {
     "data": {
      "text/html": [
       "<div>\n",
       "<style scoped>\n",
       "    .dataframe tbody tr th:only-of-type {\n",
       "        vertical-align: middle;\n",
       "    }\n",
       "\n",
       "    .dataframe tbody tr th {\n",
       "        vertical-align: top;\n",
       "    }\n",
       "\n",
       "    .dataframe thead th {\n",
       "        text-align: right;\n",
       "    }\n",
       "</style>\n",
       "<table border=\"1\" class=\"dataframe\">\n",
       "  <thead>\n",
       "    <tr style=\"text-align: right;\">\n",
       "      <th></th>\n",
       "      <th>Name</th>\n",
       "      <th>Sound_3.5mmjack</th>\n",
       "      <th>Brand</th>\n",
       "      <th>Model</th>\n",
       "      <th>has_LTE</th>\n",
       "      <th>has_5G</th>\n",
       "      <th>has_CDMA</th>\n",
       "      <th>has_CDMA2000</th>\n",
       "      <th>has_EVDO</th>\n",
       "      <th>number_of_sims</th>\n",
       "      <th>...</th>\n",
       "      <th>max_FPS</th>\n",
       "      <th>ram</th>\n",
       "      <th>Total_Pixels</th>\n",
       "      <th>number_of_camera_features</th>\n",
       "      <th>maincamera_mp</th>\n",
       "      <th>selfiecamera_mp</th>\n",
       "      <th>latest_wifi_version</th>\n",
       "      <th>Bluetooth_version</th>\n",
       "      <th>has_nfc</th>\n",
       "      <th>USB_Type</th>\n",
       "    </tr>\n",
       "  </thead>\n",
       "  <tbody>\n",
       "  </tbody>\n",
       "</table>\n",
       "<p>0 rows × 64 columns</p>\n",
       "</div>"
      ],
      "text/plain": [
       "Empty DataFrame\n",
       "Columns: [Name, Sound_3.5mmjack, Brand, Model, has_LTE, has_5G, has_CDMA, has_CDMA2000, has_EVDO, number_of_sims, number_of_2g_bands, aws_support, number_of_3g_bands, is_foldable_phone, thickness, has_Nano_SIM, has_Micro_SIM, has_Mini_SIM, has_eSIM, has_SIM_Type_Specified, has_memory_card, memory_type_microSDXC, memory_type_microSDHC, Battery_Is_removable, Battery_Capacity, Battery_Type_Lithium, Sound_has_stereo_speakers, camera_hdr, camera_laser_af, camera_panorama, GPU_company, Number_of_cores, CPU_Brand, CPU_Transistor_Size, CPU_Model, Is_OS_Upgradable, os_version, Resolution_Width, Resolution_Height, PPI, Display_Size, Price_In_Dollars, has_8k, has_4k, has_1440p, has_1080p, has_720p, has_480p, has_EIS, has_HDR, has_stereo, has_dolby_vision, has_OIS, max_resolution, max_FPS, ram, Total_Pixels, number_of_camera_features, maincamera_mp, selfiecamera_mp, latest_wifi_version, Bluetooth_version, has_nfc, USB_Type]\n",
       "Index: []\n",
       "\n",
       "[0 rows x 64 columns]"
      ]
     },
     "execution_count": 12,
     "metadata": {},
     "output_type": "execute_result"
    }
   ],
   "source": [
    "df[df['Resolution_Height'] > 3500]"
   ]
  },
  {
   "cell_type": "markdown",
   "id": "e20d5a4a",
   "metadata": {},
   "source": [
    "#### Removing Unnecessary columns\n"
   ]
  },
  {
   "cell_type": "code",
   "execution_count": 13,
   "id": "ddb651fb",
   "metadata": {},
   "outputs": [],
   "source": [
    "\n",
    "columnsToRemove = ['MainCamera_Cameraspecs', 'SelfieCamera_Cameraspecs', 'SelfieCamera_Features', 'COMMS_WLAN', 'COMMS_Bluetooth', 'Colors', 'camera_has_led_flash', 'COMMS_USB', 'COMMS_NFC', 'COMMS_Radio', 'Parsed_Camera_Features', 'has_GSM', 'has_UMTS', 'has_HSPA', 'memory_type_microSD', 'memory_type_SD', 'memory_type_Nano_Memory']"
   ]
  },
  {
   "cell_type": "code",
   "execution_count": 14,
   "id": "dcf76d03",
   "metadata": {},
   "outputs": [
    {
     "ename": "KeyError",
     "evalue": "\"['MainCamera_Cameraspecs', 'SelfieCamera_Cameraspecs', 'SelfieCamera_Features', 'COMMS_WLAN', 'COMMS_Bluetooth', 'Colors', 'camera_has_led_flash', 'COMMS_USB', 'COMMS_NFC', 'COMMS_Radio', 'Parsed_Camera_Features', 'has_GSM', 'has_UMTS', 'has_HSPA', 'memory_type_microSD', 'memory_type_SD', 'memory_type_Nano_Memory'] not found in axis\"",
     "output_type": "error",
     "traceback": [
      "\u001b[31m---------------------------------------------------------------------------\u001b[39m",
      "\u001b[31mKeyError\u001b[39m                                  Traceback (most recent call last)",
      "\u001b[36mCell\u001b[39m\u001b[36m \u001b[39m\u001b[32mIn[14]\u001b[39m\u001b[32m, line 1\u001b[39m\n\u001b[32m----> \u001b[39m\u001b[32m1\u001b[39m df = \u001b[43mdf\u001b[49m\u001b[43m.\u001b[49m\u001b[43mdrop\u001b[49m\u001b[43m(\u001b[49m\u001b[43mcolumns\u001b[49m\u001b[43m \u001b[49m\u001b[43m=\u001b[49m\u001b[43m \u001b[49m\u001b[43mcolumnsToRemove\u001b[49m\u001b[43m)\u001b[49m\n",
      "\u001b[36mFile \u001b[39m\u001b[32m~/mydocs/myprojects/Mobile Price Prediction/mobile-env/lib/python3.13/site-packages/pandas/core/frame.py:5581\u001b[39m, in \u001b[36mDataFrame.drop\u001b[39m\u001b[34m(self, labels, axis, index, columns, level, inplace, errors)\u001b[39m\n\u001b[32m   5433\u001b[39m \u001b[38;5;28;01mdef\u001b[39;00m\u001b[38;5;250m \u001b[39m\u001b[34mdrop\u001b[39m(\n\u001b[32m   5434\u001b[39m     \u001b[38;5;28mself\u001b[39m,\n\u001b[32m   5435\u001b[39m     labels: IndexLabel | \u001b[38;5;28;01mNone\u001b[39;00m = \u001b[38;5;28;01mNone\u001b[39;00m,\n\u001b[32m   (...)\u001b[39m\u001b[32m   5442\u001b[39m     errors: IgnoreRaise = \u001b[33m\"\u001b[39m\u001b[33mraise\u001b[39m\u001b[33m\"\u001b[39m,\n\u001b[32m   5443\u001b[39m ) -> DataFrame | \u001b[38;5;28;01mNone\u001b[39;00m:\n\u001b[32m   5444\u001b[39m \u001b[38;5;250m    \u001b[39m\u001b[33;03m\"\"\"\u001b[39;00m\n\u001b[32m   5445\u001b[39m \u001b[33;03m    Drop specified labels from rows or columns.\u001b[39;00m\n\u001b[32m   5446\u001b[39m \n\u001b[32m   (...)\u001b[39m\u001b[32m   5579\u001b[39m \u001b[33;03m            weight  1.0     0.8\u001b[39;00m\n\u001b[32m   5580\u001b[39m \u001b[33;03m    \"\"\"\u001b[39;00m\n\u001b[32m-> \u001b[39m\u001b[32m5581\u001b[39m     \u001b[38;5;28;01mreturn\u001b[39;00m \u001b[38;5;28;43msuper\u001b[39;49m\u001b[43m(\u001b[49m\u001b[43m)\u001b[49m\u001b[43m.\u001b[49m\u001b[43mdrop\u001b[49m\u001b[43m(\u001b[49m\n\u001b[32m   5582\u001b[39m \u001b[43m        \u001b[49m\u001b[43mlabels\u001b[49m\u001b[43m=\u001b[49m\u001b[43mlabels\u001b[49m\u001b[43m,\u001b[49m\n\u001b[32m   5583\u001b[39m \u001b[43m        \u001b[49m\u001b[43maxis\u001b[49m\u001b[43m=\u001b[49m\u001b[43maxis\u001b[49m\u001b[43m,\u001b[49m\n\u001b[32m   5584\u001b[39m \u001b[43m        \u001b[49m\u001b[43mindex\u001b[49m\u001b[43m=\u001b[49m\u001b[43mindex\u001b[49m\u001b[43m,\u001b[49m\n\u001b[32m   5585\u001b[39m \u001b[43m        \u001b[49m\u001b[43mcolumns\u001b[49m\u001b[43m=\u001b[49m\u001b[43mcolumns\u001b[49m\u001b[43m,\u001b[49m\n\u001b[32m   5586\u001b[39m \u001b[43m        \u001b[49m\u001b[43mlevel\u001b[49m\u001b[43m=\u001b[49m\u001b[43mlevel\u001b[49m\u001b[43m,\u001b[49m\n\u001b[32m   5587\u001b[39m \u001b[43m        \u001b[49m\u001b[43minplace\u001b[49m\u001b[43m=\u001b[49m\u001b[43minplace\u001b[49m\u001b[43m,\u001b[49m\n\u001b[32m   5588\u001b[39m \u001b[43m        \u001b[49m\u001b[43merrors\u001b[49m\u001b[43m=\u001b[49m\u001b[43merrors\u001b[49m\u001b[43m,\u001b[49m\n\u001b[32m   5589\u001b[39m \u001b[43m    \u001b[49m\u001b[43m)\u001b[49m\n",
      "\u001b[36mFile \u001b[39m\u001b[32m~/mydocs/myprojects/Mobile Price Prediction/mobile-env/lib/python3.13/site-packages/pandas/core/generic.py:4788\u001b[39m, in \u001b[36mNDFrame.drop\u001b[39m\u001b[34m(self, labels, axis, index, columns, level, inplace, errors)\u001b[39m\n\u001b[32m   4786\u001b[39m \u001b[38;5;28;01mfor\u001b[39;00m axis, labels \u001b[38;5;129;01min\u001b[39;00m axes.items():\n\u001b[32m   4787\u001b[39m     \u001b[38;5;28;01mif\u001b[39;00m labels \u001b[38;5;129;01mis\u001b[39;00m \u001b[38;5;129;01mnot\u001b[39;00m \u001b[38;5;28;01mNone\u001b[39;00m:\n\u001b[32m-> \u001b[39m\u001b[32m4788\u001b[39m         obj = \u001b[43mobj\u001b[49m\u001b[43m.\u001b[49m\u001b[43m_drop_axis\u001b[49m\u001b[43m(\u001b[49m\u001b[43mlabels\u001b[49m\u001b[43m,\u001b[49m\u001b[43m \u001b[49m\u001b[43maxis\u001b[49m\u001b[43m,\u001b[49m\u001b[43m \u001b[49m\u001b[43mlevel\u001b[49m\u001b[43m=\u001b[49m\u001b[43mlevel\u001b[49m\u001b[43m,\u001b[49m\u001b[43m \u001b[49m\u001b[43merrors\u001b[49m\u001b[43m=\u001b[49m\u001b[43merrors\u001b[49m\u001b[43m)\u001b[49m\n\u001b[32m   4790\u001b[39m \u001b[38;5;28;01mif\u001b[39;00m inplace:\n\u001b[32m   4791\u001b[39m     \u001b[38;5;28mself\u001b[39m._update_inplace(obj)\n",
      "\u001b[36mFile \u001b[39m\u001b[32m~/mydocs/myprojects/Mobile Price Prediction/mobile-env/lib/python3.13/site-packages/pandas/core/generic.py:4830\u001b[39m, in \u001b[36mNDFrame._drop_axis\u001b[39m\u001b[34m(self, labels, axis, level, errors, only_slice)\u001b[39m\n\u001b[32m   4828\u001b[39m         new_axis = axis.drop(labels, level=level, errors=errors)\n\u001b[32m   4829\u001b[39m     \u001b[38;5;28;01melse\u001b[39;00m:\n\u001b[32m-> \u001b[39m\u001b[32m4830\u001b[39m         new_axis = \u001b[43maxis\u001b[49m\u001b[43m.\u001b[49m\u001b[43mdrop\u001b[49m\u001b[43m(\u001b[49m\u001b[43mlabels\u001b[49m\u001b[43m,\u001b[49m\u001b[43m \u001b[49m\u001b[43merrors\u001b[49m\u001b[43m=\u001b[49m\u001b[43merrors\u001b[49m\u001b[43m)\u001b[49m\n\u001b[32m   4831\u001b[39m     indexer = axis.get_indexer(new_axis)\n\u001b[32m   4833\u001b[39m \u001b[38;5;66;03m# Case for non-unique axis\u001b[39;00m\n\u001b[32m   4834\u001b[39m \u001b[38;5;28;01melse\u001b[39;00m:\n",
      "\u001b[36mFile \u001b[39m\u001b[32m~/mydocs/myprojects/Mobile Price Prediction/mobile-env/lib/python3.13/site-packages/pandas/core/indexes/base.py:7070\u001b[39m, in \u001b[36mIndex.drop\u001b[39m\u001b[34m(self, labels, errors)\u001b[39m\n\u001b[32m   7068\u001b[39m \u001b[38;5;28;01mif\u001b[39;00m mask.any():\n\u001b[32m   7069\u001b[39m     \u001b[38;5;28;01mif\u001b[39;00m errors != \u001b[33m\"\u001b[39m\u001b[33mignore\u001b[39m\u001b[33m\"\u001b[39m:\n\u001b[32m-> \u001b[39m\u001b[32m7070\u001b[39m         \u001b[38;5;28;01mraise\u001b[39;00m \u001b[38;5;167;01mKeyError\u001b[39;00m(\u001b[33mf\u001b[39m\u001b[33m\"\u001b[39m\u001b[38;5;132;01m{\u001b[39;00mlabels[mask].tolist()\u001b[38;5;132;01m}\u001b[39;00m\u001b[33m not found in axis\u001b[39m\u001b[33m\"\u001b[39m)\n\u001b[32m   7071\u001b[39m     indexer = indexer[~mask]\n\u001b[32m   7072\u001b[39m \u001b[38;5;28;01mreturn\u001b[39;00m \u001b[38;5;28mself\u001b[39m.delete(indexer)\n",
      "\u001b[31mKeyError\u001b[39m: \"['MainCamera_Cameraspecs', 'SelfieCamera_Cameraspecs', 'SelfieCamera_Features', 'COMMS_WLAN', 'COMMS_Bluetooth', 'Colors', 'camera_has_led_flash', 'COMMS_USB', 'COMMS_NFC', 'COMMS_Radio', 'Parsed_Camera_Features', 'has_GSM', 'has_UMTS', 'has_HSPA', 'memory_type_microSD', 'memory_type_SD', 'memory_type_Nano_Memory'] not found in axis\""
     ]
    }
   ],
   "source": [
    "df = df.drop(columns = columnsToRemove)"
   ]
  },
  {
   "cell_type": "code",
   "execution_count": null,
   "id": "6520a739",
   "metadata": {},
   "outputs": [
    {
     "data": {
      "text/plain": [
       "(4981, 64)"
      ]
     },
     "execution_count": 12,
     "metadata": {},
     "output_type": "execute_result"
    }
   ],
   "source": [
    "df.shape"
   ]
  },
  {
   "cell_type": "code",
   "execution_count": null,
   "id": "5025d201",
   "metadata": {},
   "outputs": [],
   "source": []
  },
  {
   "cell_type": "code",
   "execution_count": null,
   "id": "449f3eb3",
   "metadata": {},
   "outputs": [],
   "source": [
    "output_path = './../data/processed/After_03_Fixing_Outliers.csv'\n",
    "df.to_csv(output_path, index = False)"
   ]
  },
  {
   "cell_type": "code",
   "execution_count": null,
   "id": "7b24a602",
   "metadata": {},
   "outputs": [],
   "source": []
  }
 ],
 "metadata": {
  "kernelspec": {
   "display_name": "mobile-env",
   "language": "python",
   "name": "python3"
  },
  "language_info": {
   "codemirror_mode": {
    "name": "ipython",
    "version": 3
   },
   "file_extension": ".py",
   "mimetype": "text/x-python",
   "name": "python",
   "nbconvert_exporter": "python",
   "pygments_lexer": "ipython3",
   "version": "3.13.3"
  }
 },
 "nbformat": 4,
 "nbformat_minor": 5
}
