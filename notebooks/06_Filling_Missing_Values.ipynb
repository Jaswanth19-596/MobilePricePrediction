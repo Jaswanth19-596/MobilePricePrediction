{
 "cells": [
  {
   "cell_type": "code",
   "execution_count": 1,
   "id": "cd6f58f1",
   "metadata": {},
   "outputs": [],
   "source": [
    "import numpy as np\n",
    "import pandas as pd\n",
    "import matplotlib.pyplot as plt\n",
    "import seaborn as sns"
   ]
  },
  {
   "cell_type": "code",
   "execution_count": 2,
   "id": "9caa21b6",
   "metadata": {},
   "outputs": [],
   "source": [
    "import sys\n",
    "import os\n",
    "\n",
    "# Add the root of your project to sys.path\n",
    "project_root = os.path.abspath('..')  # or '.' if your notebook is in root\n",
    "if project_root not in sys.path:\n",
    "    sys.path.insert(0, project_root)"
   ]
  },
  {
   "cell_type": "code",
   "execution_count": 3,
   "id": "c5a38320",
   "metadata": {},
   "outputs": [
    {
     "data": {
      "text/plain": [
       "<module 'src.eda' from '/Users/jaswanth/mydocs/myprojects/Mobile Price Prediction/src/eda.py'>"
      ]
     },
     "execution_count": 3,
     "metadata": {},
     "output_type": "execute_result"
    }
   ],
   "source": [
    "%load_ext autoreload\n",
    "%autoreload 2\n",
    "\n",
    "import importlib\n",
    "import src.eda\n",
    "importlib.reload(src.eda)"
   ]
  },
  {
   "cell_type": "code",
   "execution_count": 4,
   "id": "caf99474",
   "metadata": {},
   "outputs": [],
   "source": [
    "input_path = './../data/processed/After_05_Fixing_Categories.csv'\n",
    "df = pd.read_csv(input_path)"
   ]
  },
  {
   "cell_type": "markdown",
   "id": "3c9c239d",
   "metadata": {},
   "source": [
    "### Numerical Columns\n"
   ]
  },
  {
   "cell_type": "markdown",
   "id": "b8af929e",
   "metadata": {},
   "source": [
    "Numeric(Missing values) : thickness, Battery_Capacity, CPU_Transistor_Size,\n",
    "\n",
    "Numeric(transformation) : thickness, Battery_Capacity\n"
   ]
  },
  {
   "cell_type": "code",
   "execution_count": 5,
   "id": "fbd23c6c",
   "metadata": {},
   "outputs": [
    {
     "data": {
      "text/plain": [
       "Battery_Type_Lithium    1255\n",
       "camera_hdr               421\n",
       "camera_panorama          421\n",
       "GPU_company              151\n",
       "CPU_Model                135\n",
       "CPU_Brand                115\n",
       "has_nfc                   93\n",
       "thickness                 66\n",
       "Battery_Capacity          17\n",
       "Number_of_cores           14\n",
       "dtype: int64"
      ]
     },
     "execution_count": 5,
     "metadata": {},
     "output_type": "execute_result"
    }
   ],
   "source": [
    "df.isna().sum().sort_values(ascending = False).head(10)"
   ]
  },
  {
   "cell_type": "code",
   "execution_count": 6,
   "id": "f91f03ed",
   "metadata": {},
   "outputs": [],
   "source": [
    "X = df.drop(columns = 'Price_In_Dollars')\n",
    "y = df['Price_In_Dollars']"
   ]
  },
  {
   "cell_type": "code",
   "execution_count": 7,
   "id": "004bc57d",
   "metadata": {},
   "outputs": [],
   "source": [
    "from sklearn.model_selection import train_test_split\n",
    "\n",
    "X_train, X_test, y_train, y_test = train_test_split(X, y, test_size = 0.1)"
   ]
  },
  {
   "cell_type": "markdown",
   "id": "55ea9ec0",
   "metadata": {},
   "source": [
    "#### Filling Missing values\n"
   ]
  },
  {
   "cell_type": "code",
   "execution_count": 8,
   "id": "8123ba3e",
   "metadata": {},
   "outputs": [],
   "source": [
    "import numpy as np\n",
    "\n",
    "def fillMissingValuesWhole(X_train, X_test, columnToUse, columnToFill, isNumericColumn):\n",
    "    mapper = {}\n",
    "\n",
    "    for brand in X_train[columnToUse].unique():\n",
    "        if not isNumericColumn:\n",
    "            fillingValue = X_train[X_train[columnToUse] == brand][columnToFill].mode()\n",
    "            if fillingValue.empty:\n",
    "                fillingValue = X_train[columnToFill].mode()\n",
    "            mapper[brand] = fillingValue[0]\n",
    "        else:\n",
    "            fillingValue = X_train[X_train[columnToUse] == brand][columnToFill].mean()\n",
    "            if np.isnan(fillingValue):\n",
    "                fillingValue = X_train[columnToFill].mean()\n",
    "            mapper[brand] = fillingValue\n",
    "\n",
    "    def transformationFunction(row):\n",
    "        row[columnToFill] = mapper.get(row[columnToUse], np.nan)\n",
    "        return row\n",
    "\n",
    "    def findMissingValuesAndFill(df, column):\n",
    "        missing_rows = df[df[column].isna()].index\n",
    "        df.loc[missing_rows, column] = df.loc[missing_rows].apply(transformationFunction, axis=1)[column]\n",
    "\n",
    "    findMissingValuesAndFill(X_train, columnToFill)\n",
    "    findMissingValuesAndFill(X_test, columnToFill)"
   ]
  },
  {
   "cell_type": "code",
   "execution_count": 9,
   "id": "c69a4427",
   "metadata": {},
   "outputs": [],
   "source": [
    "fillMissingValuesWhole(X_train, X_test, 'Brand', 'camera_panorama', False)\n",
    "fillMissingValuesWhole(X_train, X_test, 'Brand', 'GPU_company', False)\n",
    "fillMissingValuesWhole(X_train, X_test, 'Brand', 'CPU_Model', False)\n",
    "fillMissingValuesWhole(X_train, X_test, 'Brand', 'CPU_Brand', False)\n",
    "fillMissingValuesWhole(X_train, X_test, 'Brand', 'has_nfc', False)\n",
    "fillMissingValuesWhole(X_train, X_test, 'Brand', 'Number_of_cores', False)\n",
    "fillMissingValuesWhole(X_train, X_test, 'Brand', 'USB_Type', False)\n",
    "fillMissingValuesWhole(X_train, X_test, 'Brand', 'is_foldable_phone', False)\n",
    "fillMissingValuesWhole(X_train, X_test, 'Brand', 'Is_OS_Upgradable', False)\n",
    "fillMissingValuesWhole(X_train, X_test, 'Brand', 'Battery_Type_Lithium', False)\n",
    "fillMissingValuesWhole(X_train, X_test, 'Brand', 'camera_hdr', False)\n",
    "fillMissingValuesWhole(X_train, X_test, 'Brand', 'number_of_2g_bands', False)"
   ]
  },
  {
   "cell_type": "code",
   "execution_count": 10,
   "id": "9267e1a8",
   "metadata": {},
   "outputs": [],
   "source": [
    "fillMissingValuesWhole(X_train, X_test, 'Brand', 'thickness', True)\n",
    "fillMissingValuesWhole(X_train, X_test, 'Brand', 'Battery_Capacity', True)"
   ]
  },
  {
   "cell_type": "code",
   "execution_count": 11,
   "id": "b9e37909",
   "metadata": {},
   "outputs": [
    {
     "data": {
      "text/html": [
       "<div>\n",
       "<style scoped>\n",
       "    .dataframe tbody tr th:only-of-type {\n",
       "        vertical-align: middle;\n",
       "    }\n",
       "\n",
       "    .dataframe tbody tr th {\n",
       "        vertical-align: top;\n",
       "    }\n",
       "\n",
       "    .dataframe thead th {\n",
       "        text-align: right;\n",
       "    }\n",
       "</style>\n",
       "<table border=\"1\" class=\"dataframe\">\n",
       "  <thead>\n",
       "    <tr style=\"text-align: right;\">\n",
       "      <th></th>\n",
       "      <th>Name</th>\n",
       "      <th>Sound_3.5mmjack</th>\n",
       "      <th>Brand</th>\n",
       "      <th>Model</th>\n",
       "      <th>has_LTE</th>\n",
       "      <th>has_5G</th>\n",
       "      <th>has_CDMA</th>\n",
       "      <th>has_CDMA2000</th>\n",
       "      <th>has_EVDO</th>\n",
       "      <th>number_of_sims</th>\n",
       "      <th>...</th>\n",
       "      <th>ram</th>\n",
       "      <th>Total_Pixels</th>\n",
       "      <th>number_of_camera_features</th>\n",
       "      <th>maincamera_mp</th>\n",
       "      <th>selfiecamera_mp</th>\n",
       "      <th>latest_wifi_version</th>\n",
       "      <th>Bluetooth_version</th>\n",
       "      <th>has_nfc</th>\n",
       "      <th>USB_Type</th>\n",
       "      <th>operating_system</th>\n",
       "    </tr>\n",
       "  </thead>\n",
       "  <tbody>\n",
       "    <tr>\n",
       "      <th>1615</th>\n",
       "      <td>Huawei G7 Plus</td>\n",
       "      <td>Yes</td>\n",
       "      <td>Huawei</td>\n",
       "      <td>G7 Plus</td>\n",
       "      <td>1.0</td>\n",
       "      <td>0.0</td>\n",
       "      <td>0.0</td>\n",
       "      <td>0.0</td>\n",
       "      <td>0.0</td>\n",
       "      <td>2.0</td>\n",
       "      <td>...</td>\n",
       "      <td>&lt;= 4</td>\n",
       "      <td>2073600.0</td>\n",
       "      <td>1.0</td>\n",
       "      <td>Medium</td>\n",
       "      <td>Low</td>\n",
       "      <td>1</td>\n",
       "      <td>Less than 4</td>\n",
       "      <td>0.0</td>\n",
       "      <td>Type-B</td>\n",
       "      <td>Android</td>\n",
       "    </tr>\n",
       "    <tr>\n",
       "      <th>1093</th>\n",
       "      <td>Asus ROG Phone 5 Pro</td>\n",
       "      <td>Yes</td>\n",
       "      <td>Asus</td>\n",
       "      <td>ROG Phone 5 Pro</td>\n",
       "      <td>1.0</td>\n",
       "      <td>1.0</td>\n",
       "      <td>0.0</td>\n",
       "      <td>0.0</td>\n",
       "      <td>0.0</td>\n",
       "      <td>2.0</td>\n",
       "      <td>...</td>\n",
       "      <td>8-16</td>\n",
       "      <td>2643840.0</td>\n",
       "      <td>3.0</td>\n",
       "      <td>Ultra</td>\n",
       "      <td>High</td>\n",
       "      <td>4</td>\n",
       "      <td>5</td>\n",
       "      <td>1.0</td>\n",
       "      <td>Type-C</td>\n",
       "      <td>Android</td>\n",
       "    </tr>\n",
       "    <tr>\n",
       "      <th>3637</th>\n",
       "      <td>Xiaomi Mi A2 Lite (Redmi 6 Pro)</td>\n",
       "      <td>Yes</td>\n",
       "      <td>Xiaomi</td>\n",
       "      <td>Mi A2 Lite (Redmi 6 Pro)</td>\n",
       "      <td>1.0</td>\n",
       "      <td>0.0</td>\n",
       "      <td>1.0</td>\n",
       "      <td>0.0</td>\n",
       "      <td>0.0</td>\n",
       "      <td>2.0</td>\n",
       "      <td>...</td>\n",
       "      <td>&lt;= 4</td>\n",
       "      <td>2462400.0</td>\n",
       "      <td>3.0</td>\n",
       "      <td>Medium</td>\n",
       "      <td>Low</td>\n",
       "      <td>1</td>\n",
       "      <td>Less than 4</td>\n",
       "      <td>0.0</td>\n",
       "      <td>Type-B</td>\n",
       "      <td>Android</td>\n",
       "    </tr>\n",
       "    <tr>\n",
       "      <th>2339</th>\n",
       "      <td>Nokia C1</td>\n",
       "      <td>Yes</td>\n",
       "      <td>Nokia</td>\n",
       "      <td>C1</td>\n",
       "      <td>0.0</td>\n",
       "      <td>0.0</td>\n",
       "      <td>0.0</td>\n",
       "      <td>0.0</td>\n",
       "      <td>0.0</td>\n",
       "      <td>2.0</td>\n",
       "      <td>...</td>\n",
       "      <td>&lt;= 4</td>\n",
       "      <td>460800.0</td>\n",
       "      <td>1.0</td>\n",
       "      <td>Low</td>\n",
       "      <td>Low</td>\n",
       "      <td>1</td>\n",
       "      <td>Less than 4</td>\n",
       "      <td>0.0</td>\n",
       "      <td>Type-B</td>\n",
       "      <td>Android</td>\n",
       "    </tr>\n",
       "    <tr>\n",
       "      <th>504</th>\n",
       "      <td>Infinix Hot 11</td>\n",
       "      <td>Yes</td>\n",
       "      <td>Infinix</td>\n",
       "      <td>Hot 11</td>\n",
       "      <td>1.0</td>\n",
       "      <td>0.0</td>\n",
       "      <td>0.0</td>\n",
       "      <td>0.0</td>\n",
       "      <td>0.0</td>\n",
       "      <td>2.0</td>\n",
       "      <td>...</td>\n",
       "      <td>&lt;= 4</td>\n",
       "      <td>2600640.0</td>\n",
       "      <td>1.0</td>\n",
       "      <td>Medium</td>\n",
       "      <td>Low</td>\n",
       "      <td>1</td>\n",
       "      <td>5</td>\n",
       "      <td>0.0</td>\n",
       "      <td>Type-C</td>\n",
       "      <td>Android</td>\n",
       "    </tr>\n",
       "  </tbody>\n",
       "</table>\n",
       "<p>5 rows × 61 columns</p>\n",
       "</div>"
      ],
      "text/plain": [
       "                                 Name Sound_3.5mmjack    Brand  \\\n",
       "1615                   Huawei G7 Plus             Yes   Huawei   \n",
       "1093             Asus ROG Phone 5 Pro             Yes     Asus   \n",
       "3637  Xiaomi Mi A2 Lite (Redmi 6 Pro)             Yes   Xiaomi   \n",
       "2339                         Nokia C1             Yes    Nokia   \n",
       "504                    Infinix Hot 11             Yes  Infinix   \n",
       "\n",
       "                         Model  has_LTE  has_5G  has_CDMA  has_CDMA2000  \\\n",
       "1615                   G7 Plus      1.0     0.0       0.0           0.0   \n",
       "1093           ROG Phone 5 Pro      1.0     1.0       0.0           0.0   \n",
       "3637  Mi A2 Lite (Redmi 6 Pro)      1.0     0.0       1.0           0.0   \n",
       "2339                        C1      0.0     0.0       0.0           0.0   \n",
       "504                     Hot 11      1.0     0.0       0.0           0.0   \n",
       "\n",
       "      has_EVDO  number_of_sims  ...   ram  Total_Pixels  \\\n",
       "1615       0.0             2.0  ...  <= 4     2073600.0   \n",
       "1093       0.0             2.0  ...  8-16     2643840.0   \n",
       "3637       0.0             2.0  ...  <= 4     2462400.0   \n",
       "2339       0.0             2.0  ...  <= 4      460800.0   \n",
       "504        0.0             2.0  ...  <= 4     2600640.0   \n",
       "\n",
       "      number_of_camera_features maincamera_mp  selfiecamera_mp  \\\n",
       "1615                        1.0        Medium              Low   \n",
       "1093                        3.0         Ultra             High   \n",
       "3637                        3.0        Medium              Low   \n",
       "2339                        1.0           Low              Low   \n",
       "504                         1.0        Medium              Low   \n",
       "\n",
       "      latest_wifi_version  Bluetooth_version  has_nfc  USB_Type  \\\n",
       "1615                    1        Less than 4      0.0    Type-B   \n",
       "1093                    4                  5      1.0    Type-C   \n",
       "3637                    1        Less than 4      0.0    Type-B   \n",
       "2339                    1        Less than 4      0.0    Type-B   \n",
       "504                     1                  5      0.0    Type-C   \n",
       "\n",
       "      operating_system  \n",
       "1615           Android  \n",
       "1093           Android  \n",
       "3637           Android  \n",
       "2339           Android  \n",
       "504            Android  \n",
       "\n",
       "[5 rows x 61 columns]"
      ]
     },
     "execution_count": 11,
     "metadata": {},
     "output_type": "execute_result"
    }
   ],
   "source": [
    "X_train.head()"
   ]
  },
  {
   "cell_type": "code",
   "execution_count": 12,
   "id": "1e46b22d",
   "metadata": {},
   "outputs": [],
   "source": [
    "X_train = X_train.drop(columns = ['Name', 'Model', 'CPU_Model'])\n",
    "X_test = X_test.drop(columns = ['Name', 'Model', 'CPU_Model'])"
   ]
  },
  {
   "cell_type": "code",
   "execution_count": 13,
   "id": "3d7e48a0",
   "metadata": {},
   "outputs": [],
   "source": [
    "X_train.to_csv('./../data/processed/X_train.csv', index = False)\n",
    "X_test.to_csv('./../data/processed/X_test.csv', index = False)\n",
    "y_train.to_csv('./../data/processed/y_train.csv', index = False)\n",
    "y_test.to_csv('./../data/processed/y_test.csv', index = False)"
   ]
  }
 ],
 "metadata": {
  "kernelspec": {
   "display_name": "mobile-env",
   "language": "python",
   "name": "python3"
  },
  "language_info": {
   "codemirror_mode": {
    "name": "ipython",
    "version": 3
   },
   "file_extension": ".py",
   "mimetype": "text/x-python",
   "name": "python",
   "nbconvert_exporter": "python",
   "pygments_lexer": "ipython3",
   "version": "3.13.3"
  }
 },
 "nbformat": 4,
 "nbformat_minor": 5
}
