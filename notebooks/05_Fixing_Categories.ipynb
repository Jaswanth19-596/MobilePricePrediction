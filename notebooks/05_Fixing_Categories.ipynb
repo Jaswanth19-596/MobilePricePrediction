{
 "cells": [
  {
   "cell_type": "code",
   "execution_count": 5,
   "id": "ac3d5a6a",
   "metadata": {},
   "outputs": [],
   "source": [
    "import numpy as np\n",
    "import pandas as pd\n",
    "import matplotlib.pyplot as plt\n",
    "import seaborn as sns"
   ]
  },
  {
   "cell_type": "code",
   "execution_count": 6,
   "id": "72fc764c",
   "metadata": {},
   "outputs": [
    {
     "name": "stdout",
     "output_type": "stream",
     "text": [
      "The autoreload extension is already loaded. To reload it, use:\n",
      "  %reload_ext autoreload\n"
     ]
    }
   ],
   "source": [
    "%load_ext autoreload\n",
    "%autoreload 2"
   ]
  },
  {
   "cell_type": "code",
   "execution_count": 7,
   "id": "c79a6ba4",
   "metadata": {},
   "outputs": [],
   "source": [
    "import sys\n",
    "import os\n",
    "\n",
    "# Add the root of your project to sys.path\n",
    "project_root = os.path.abspath('..')  # or '.' if your notebook is in root\n",
    "if project_root not in sys.path:\n",
    "    sys.path.insert(0, project_root)"
   ]
  },
  {
   "cell_type": "code",
   "execution_count": 8,
   "id": "296d3d04",
   "metadata": {},
   "outputs": [
    {
     "data": {
      "text/plain": [
       "<module 'src.eda' from '/Users/jaswanth/mydocs/myprojects/Mobile Price Prediction/src/eda.py'>"
      ]
     },
     "execution_count": 8,
     "metadata": {},
     "output_type": "execute_result"
    }
   ],
   "source": [
    "import importlib\n",
    "import src.eda\n",
    "importlib.reload(src.eda)"
   ]
  },
  {
   "cell_type": "code",
   "execution_count": 9,
   "id": "22ccc64f",
   "metadata": {},
   "outputs": [],
   "source": [
    "input_path = './../data/processed/After_03_Fixing_Outliers.csv'\n",
    "df = pd.read_csv(input_path)"
   ]
  },
  {
   "cell_type": "markdown",
   "id": "b992ccd4",
   "metadata": {},
   "source": [
    "### Categorical Columns\n"
   ]
  },
  {
   "cell_type": "code",
   "execution_count": 10,
   "id": "6a6c8d06",
   "metadata": {},
   "outputs": [],
   "source": [
    "category_columns = ['CPU_Transistor_Size', 'Sound_3.5mmjack', 'Brand', 'has_GSM', 'has_UMTS', 'has_HSPA', 'has_LTE', 'has_5G', 'has_CDMA', 'has_CDMA2000', 'has_EVDO', 'number_of_sims', 'number_of_2g_bands', 'aws_support', 'number_of_3g_bands', 'is_foldable_phone', 'has_Nano_SIM', 'has_Micro_SIM', 'has_Mini_SIM', 'has_eSIM', 'has_SIM_Type_Specified', 'has_memory_card', 'memory_type_microSDXC', 'memory_type_microSDHC', 'memory_type_microSD', 'memory_type_SD', 'memory_type_Nano_Memory', 'Battery_Is_removable', 'Battery_Type_Lithium', 'Sound_has_stereo_speakers', 'camera_hdr', 'camera_laser_af', 'camera_panorama', 'GPU_company', 'Number_of_cores', 'CPU_Brand', 'Is_OS_Upgradable', 'os_version', 'Resolution_Width', 'Resolution_Height', 'has_8k',\t'has_4k',\t'has_1440p',\t'has_1080p',\t'has_720p',\t'has_480p',\t'has_EIS',\t'has_HDR',\t'has_stereo',\t'has_dolby_vision',\t'has_OIS'\t,'max_resolution',\t'max_FPS',\t'ram', 'number_of_camera_features',\t'maincamera_mp',\t'selfiecamera_mp',\t'latest_wifi_version',\t'Bluetooth_version',\t'has_nfc',\t'USB_Type']\n",
    "for col in category_columns:\n",
    "    try:\n",
    "        df[col] = df[col].astype('category')\n",
    "    except:\n",
    "        pass"
   ]
  },
  {
   "cell_type": "code",
   "execution_count": 11,
   "id": "3db4e0e7",
   "metadata": {},
   "outputs": [],
   "source": [
    "numerical_cols = df.select_dtypes(include = ['int64', 'float64']).columns.tolist()\n",
    "categorical_cols = df.select_dtypes(exclude=['int64', 'float64']).columns.tolist()"
   ]
  },
  {
   "cell_type": "markdown",
   "id": "0abad0b6",
   "metadata": {},
   "source": [
    "#### Removing Unuseful columns\n"
   ]
  },
  {
   "cell_type": "code",
   "execution_count": 12,
   "id": "40219471",
   "metadata": {},
   "outputs": [],
   "source": [
    "low_cardinality_features = [column for column in categorical_cols if df[column].nunique() < 5]"
   ]
  },
  {
   "cell_type": "code",
   "execution_count": 13,
   "id": "239a2768",
   "metadata": {},
   "outputs": [],
   "source": [
    "unuseful_columns = ['camera_laser_af']\n",
    "\n",
    "useful_columns = [ column for column in low_cardinality_features if column not in unuseful_columns]"
   ]
  },
  {
   "cell_type": "code",
   "execution_count": 14,
   "id": "a526ecc3",
   "metadata": {},
   "outputs": [],
   "source": [
    "df = df.drop(columns=unuseful_columns)"
   ]
  },
  {
   "cell_type": "markdown",
   "id": "60127809",
   "metadata": {},
   "source": [
    "##### Fixing Number of Cores\n"
   ]
  },
  {
   "cell_type": "code",
   "execution_count": 15,
   "id": "26568ffd",
   "metadata": {},
   "outputs": [],
   "source": [
    "from src.eda import group_cores\n",
    "\n",
    "df['Number_of_cores'] = df['Number_of_cores'].apply(group_cores)"
   ]
  },
  {
   "cell_type": "markdown",
   "id": "93628013",
   "metadata": {},
   "source": [
    "##### Fixing Number of 3G Bands\n"
   ]
  },
  {
   "cell_type": "code",
   "execution_count": 16,
   "id": "23058f84",
   "metadata": {},
   "outputs": [
    {
     "name": "stderr",
     "output_type": "stream",
     "text": [
      "/var/folders/fd/mwtfcb8151d_f4770qn_971w0000gn/T/ipykernel_79858/537379771.py:1: FutureWarning: The behavior of Series.replace (and DataFrame.replace) with CategoricalDtype is deprecated. In a future version, replace will only be used for cases that preserve the categories. To change the categories, use ser.cat.rename_categories instead.\n",
      "  df['number_of_3g_bands'] = df['number_of_3g_bands'].replace({\n"
     ]
    }
   ],
   "source": [
    "df['number_of_3g_bands'] = df['number_of_3g_bands'].replace({\n",
    "    0.0: 1.0,\n",
    "    7.0: 6.0,\n",
    "    2.0 : 1.0,\n",
    "    3.0 : 1.0\n",
    "})"
   ]
  },
  {
   "cell_type": "markdown",
   "id": "0da5d313",
   "metadata": {},
   "source": [
    "##### Fixing Max_Resolution column\n"
   ]
  },
  {
   "cell_type": "code",
   "execution_count": 17,
   "id": "7fc57f2a",
   "metadata": {},
   "outputs": [
    {
     "data": {
      "text/plain": [
       "<Axes: xlabel='max_resolution', ylabel='Price_In_Dollars'>"
      ]
     },
     "execution_count": 17,
     "metadata": {},
     "output_type": "execute_result"
    },
    {
     "data": {
      "image/png": "[encoded data removed]",
      "text/plain": [
       "<Figure size 640x480 with 1 Axes>"
      ]
     },
     "metadata": {},
     "output_type": "display_data"
    }
   ],
   "source": [
    "sns.barplot(data = df, x = 'max_resolution', y = 'Price_In_Dollars')"
   ]
  },
  {
   "cell_type": "code",
   "execution_count": 18,
   "id": "ed79d58d",
   "metadata": {},
   "outputs": [],
   "source": [
    "df['max_resolution'] = df['max_resolution'].astype('str')"
   ]
  },
  {
   "cell_type": "code",
   "execution_count": 19,
   "id": "16663d46",
   "metadata": {},
   "outputs": [],
   "source": [
    "def fill_max_resolution(row):\n",
    "\n",
    "    tempdf = df[df['Brand'] == row['Brand']]\n",
    "\n",
    "    res = tempdf['max_resolution'].mode()[0]\n",
    "    \n",
    "    row['max_resolution'] = res\n",
    "\n",
    "    if res == '720p':\n",
    "        row['has_720p'] = 1\n",
    "    elif res == '1080p':\n",
    "        row['has_1080p'] = 1\n",
    "    elif res == '4k':\n",
    "        row['has_4k'] = 1\n",
    "    elif res == '1440p':\n",
    "        row['has_1440p'] = 1\n",
    "    elif res == '8k':\n",
    "        row['has_8k'] = 1\n",
    "\n",
    "\n",
    "    if row['max_resolution'] == '0':\n",
    "        row['max_resolution'] = '720p'\n",
    "        row['has_720p'] = 1\n",
    "\n",
    "    return row"
   ]
  },
  {
   "cell_type": "code",
   "execution_count": 20,
   "id": "1e9d1db3",
   "metadata": {},
   "outputs": [],
   "source": [
    "df.loc[df['max_resolution'] == '0'] = df[df['max_resolution'] == '0'].apply(fill_max_resolution, axis = 1)"
   ]
  },
  {
   "cell_type": "code",
   "execution_count": 21,
   "id": "c2de0511",
   "metadata": {},
   "outputs": [
    {
     "data": {
      "text/plain": [
       "<Axes: xlabel='max_resolution', ylabel='Price_In_Dollars'>"
      ]
     },
     "execution_count": 21,
     "metadata": {},
     "output_type": "execute_result"
    },
    {
     "data": {
      "image/png": "[encoded data removed]",
      "text/plain": [
       "<Figure size 640x480 with 1 Axes>"
      ]
     },
     "metadata": {},
     "output_type": "display_data"
    }
   ],
   "source": [
    "sns.barplot(data = df, x = 'max_resolution', y = 'Price_In_Dollars', order = ['720p', '1080p', '1440p', '4k','8k'])"
   ]
  },
  {
   "cell_type": "markdown",
   "id": "7edb2923",
   "metadata": {},
   "source": [
    "##### Fixing max_FPS column\n",
    "\n",
    "    There are so many inconsistencies in the max_FPS column.\n",
    "    The phone having same FPS is ranging from 100 to 1000 dollars.\n",
    "    So, i feel like it's not worth it to have this column.\n"
   ]
  },
  {
   "cell_type": "code",
   "execution_count": 22,
   "id": "b64bc1a5",
   "metadata": {},
   "outputs": [
    {
     "data": {
      "text/html": [
       "<div>\n",
       "<style scoped>\n",
       "    .dataframe tbody tr th:only-of-type {\n",
       "        vertical-align: middle;\n",
       "    }\n",
       "\n",
       "    .dataframe tbody tr th {\n",
       "        vertical-align: top;\n",
       "    }\n",
       "\n",
       "    .dataframe thead th {\n",
       "        text-align: right;\n",
       "    }\n",
       "</style>\n",
       "<table border=\"1\" class=\"dataframe\">\n",
       "  <thead>\n",
       "    <tr style=\"text-align: right;\">\n",
       "      <th></th>\n",
       "      <th>max_resolution</th>\n",
       "      <th>max_FPS</th>\n",
       "      <th>Price_In_Dollars</th>\n",
       "    </tr>\n",
       "  </thead>\n",
       "  <tbody>\n",
       "    <tr>\n",
       "      <th>1664</th>\n",
       "      <td>1080p</td>\n",
       "      <td>0</td>\n",
       "      <td>183.6</td>\n",
       "    </tr>\n",
       "    <tr>\n",
       "      <th>2941</th>\n",
       "      <td>1080p</td>\n",
       "      <td>0</td>\n",
       "      <td>205.2</td>\n",
       "    </tr>\n",
       "    <tr>\n",
       "      <th>2055</th>\n",
       "      <td>1080p</td>\n",
       "      <td>0</td>\n",
       "      <td>205.2</td>\n",
       "    </tr>\n",
       "    <tr>\n",
       "      <th>2214</th>\n",
       "      <td>1080p</td>\n",
       "      <td>0</td>\n",
       "      <td>248.4</td>\n",
       "    </tr>\n",
       "    <tr>\n",
       "      <th>1032</th>\n",
       "      <td>1080p</td>\n",
       "      <td>0</td>\n",
       "      <td>270.0</td>\n",
       "    </tr>\n",
       "    <tr>\n",
       "      <th>1555</th>\n",
       "      <td>4k</td>\n",
       "      <td>0</td>\n",
       "      <td>928.8</td>\n",
       "    </tr>\n",
       "    <tr>\n",
       "      <th>756</th>\n",
       "      <td>1440p</td>\n",
       "      <td>0</td>\n",
       "      <td>324.0</td>\n",
       "    </tr>\n",
       "    <tr>\n",
       "      <th>1869</th>\n",
       "      <td>1080p</td>\n",
       "      <td>0</td>\n",
       "      <td>118.8</td>\n",
       "    </tr>\n",
       "    <tr>\n",
       "      <th>26</th>\n",
       "      <td>1080p</td>\n",
       "      <td>0</td>\n",
       "      <td>54.0</td>\n",
       "    </tr>\n",
       "    <tr>\n",
       "      <th>845</th>\n",
       "      <td>1080p</td>\n",
       "      <td>0</td>\n",
       "      <td>64.8</td>\n",
       "    </tr>\n",
       "  </tbody>\n",
       "</table>\n",
       "</div>"
      ],
      "text/plain": [
       "     max_resolution max_FPS  Price_In_Dollars\n",
       "1664          1080p       0             183.6\n",
       "2941          1080p       0             205.2\n",
       "2055          1080p       0             205.2\n",
       "2214          1080p       0             248.4\n",
       "1032          1080p       0             270.0\n",
       "1555             4k       0             928.8\n",
       "756           1440p       0             324.0\n",
       "1869          1080p       0             118.8\n",
       "26            1080p       0              54.0\n",
       "845           1080p       0              64.8"
      ]
     },
     "execution_count": 22,
     "metadata": {},
     "output_type": "execute_result"
    }
   ],
   "source": [
    "df[df['max_FPS'] == 0][['max_resolution', 'max_FPS', 'Price_In_Dollars']].sample(10)"
   ]
  },
  {
   "cell_type": "code",
   "execution_count": 23,
   "id": "eb242a50",
   "metadata": {},
   "outputs": [
    {
     "data": {
      "text/html": [
       "<div>\n",
       "<style scoped>\n",
       "    .dataframe tbody tr th:only-of-type {\n",
       "        vertical-align: middle;\n",
       "    }\n",
       "\n",
       "    .dataframe tbody tr th {\n",
       "        vertical-align: top;\n",
       "    }\n",
       "\n",
       "    .dataframe thead th {\n",
       "        text-align: right;\n",
       "    }\n",
       "</style>\n",
       "<table border=\"1\" class=\"dataframe\">\n",
       "  <thead>\n",
       "    <tr style=\"text-align: right;\">\n",
       "      <th></th>\n",
       "      <th>max_resolution</th>\n",
       "      <th>max_FPS</th>\n",
       "      <th>Price_In_Dollars</th>\n",
       "    </tr>\n",
       "  </thead>\n",
       "  <tbody>\n",
       "    <tr>\n",
       "      <th>670</th>\n",
       "      <td>1080p</td>\n",
       "      <td>30</td>\n",
       "      <td>140.40</td>\n",
       "    </tr>\n",
       "    <tr>\n",
       "      <th>1868</th>\n",
       "      <td>1080p</td>\n",
       "      <td>30</td>\n",
       "      <td>97.20</td>\n",
       "    </tr>\n",
       "    <tr>\n",
       "      <th>1270</th>\n",
       "      <td>1080p</td>\n",
       "      <td>30</td>\n",
       "      <td>216.00</td>\n",
       "    </tr>\n",
       "    <tr>\n",
       "      <th>3518</th>\n",
       "      <td>1080p</td>\n",
       "      <td>30</td>\n",
       "      <td>194.40</td>\n",
       "    </tr>\n",
       "    <tr>\n",
       "      <th>3967</th>\n",
       "      <td>4k</td>\n",
       "      <td>240</td>\n",
       "      <td>129.99</td>\n",
       "    </tr>\n",
       "    <tr>\n",
       "      <th>651</th>\n",
       "      <td>1080p</td>\n",
       "      <td>30</td>\n",
       "      <td>270.00</td>\n",
       "    </tr>\n",
       "    <tr>\n",
       "      <th>3395</th>\n",
       "      <td>1080p</td>\n",
       "      <td>30</td>\n",
       "      <td>205.20</td>\n",
       "    </tr>\n",
       "    <tr>\n",
       "      <th>1741</th>\n",
       "      <td>4k</td>\n",
       "      <td>30</td>\n",
       "      <td>216.00</td>\n",
       "    </tr>\n",
       "    <tr>\n",
       "      <th>77</th>\n",
       "      <td>1080p</td>\n",
       "      <td>30</td>\n",
       "      <td>313.20</td>\n",
       "    </tr>\n",
       "    <tr>\n",
       "      <th>3660</th>\n",
       "      <td>4k</td>\n",
       "      <td>240</td>\n",
       "      <td>410.40</td>\n",
       "    </tr>\n",
       "  </tbody>\n",
       "</table>\n",
       "</div>"
      ],
      "text/plain": [
       "     max_resolution max_FPS  Price_In_Dollars\n",
       "670           1080p      30            140.40\n",
       "1868          1080p      30             97.20\n",
       "1270          1080p      30            216.00\n",
       "3518          1080p      30            194.40\n",
       "3967             4k     240            129.99\n",
       "651           1080p      30            270.00\n",
       "3395          1080p      30            205.20\n",
       "1741             4k      30            216.00\n",
       "77            1080p      30            313.20\n",
       "3660             4k     240            410.40"
      ]
     },
     "execution_count": 23,
     "metadata": {},
     "output_type": "execute_result"
    }
   ],
   "source": [
    "df[df['max_FPS'] != 0][['max_resolution', 'max_FPS', 'Price_In_Dollars']].sample(10)"
   ]
  },
  {
   "cell_type": "code",
   "execution_count": 24,
   "id": "4b3f5498",
   "metadata": {},
   "outputs": [
    {
     "data": {
      "text/html": [
       "<div>\n",
       "<style scoped>\n",
       "    .dataframe tbody tr th:only-of-type {\n",
       "        vertical-align: middle;\n",
       "    }\n",
       "\n",
       "    .dataframe tbody tr th {\n",
       "        vertical-align: top;\n",
       "    }\n",
       "\n",
       "    .dataframe thead th {\n",
       "        text-align: right;\n",
       "    }\n",
       "</style>\n",
       "<table border=\"1\" class=\"dataframe\">\n",
       "  <thead>\n",
       "    <tr style=\"text-align: right;\">\n",
       "      <th></th>\n",
       "      <th>max_resolution</th>\n",
       "      <th>max_FPS</th>\n",
       "      <th>Price_In_Dollars</th>\n",
       "    </tr>\n",
       "  </thead>\n",
       "  <tbody>\n",
       "    <tr>\n",
       "      <th>311</th>\n",
       "      <td>4k</td>\n",
       "      <td>0</td>\n",
       "      <td>345.60</td>\n",
       "    </tr>\n",
       "    <tr>\n",
       "      <th>400</th>\n",
       "      <td>4k</td>\n",
       "      <td>0</td>\n",
       "      <td>367.20</td>\n",
       "    </tr>\n",
       "    <tr>\n",
       "      <th>767</th>\n",
       "      <td>4k</td>\n",
       "      <td>0</td>\n",
       "      <td>399.60</td>\n",
       "    </tr>\n",
       "    <tr>\n",
       "      <th>1230</th>\n",
       "      <td>4k</td>\n",
       "      <td>0</td>\n",
       "      <td>691.20</td>\n",
       "    </tr>\n",
       "    <tr>\n",
       "      <th>1355</th>\n",
       "      <td>4k</td>\n",
       "      <td>0</td>\n",
       "      <td>496.80</td>\n",
       "    </tr>\n",
       "    <tr>\n",
       "      <th>1401</th>\n",
       "      <td>4k</td>\n",
       "      <td>0</td>\n",
       "      <td>324.00</td>\n",
       "    </tr>\n",
       "    <tr>\n",
       "      <th>1402</th>\n",
       "      <td>4k</td>\n",
       "      <td>0</td>\n",
       "      <td>518.40</td>\n",
       "    </tr>\n",
       "    <tr>\n",
       "      <th>1403</th>\n",
       "      <td>4k</td>\n",
       "      <td>0</td>\n",
       "      <td>594.00</td>\n",
       "    </tr>\n",
       "    <tr>\n",
       "      <th>1404</th>\n",
       "      <td>4k</td>\n",
       "      <td>0</td>\n",
       "      <td>313.20</td>\n",
       "    </tr>\n",
       "    <tr>\n",
       "      <th>1551</th>\n",
       "      <td>4k</td>\n",
       "      <td>0</td>\n",
       "      <td>734.40</td>\n",
       "    </tr>\n",
       "    <tr>\n",
       "      <th>1552</th>\n",
       "      <td>4k</td>\n",
       "      <td>0</td>\n",
       "      <td>378.00</td>\n",
       "    </tr>\n",
       "    <tr>\n",
       "      <th>1553</th>\n",
       "      <td>4k</td>\n",
       "      <td>0</td>\n",
       "      <td>2160.00</td>\n",
       "    </tr>\n",
       "    <tr>\n",
       "      <th>1554</th>\n",
       "      <td>4k</td>\n",
       "      <td>0</td>\n",
       "      <td>777.60</td>\n",
       "    </tr>\n",
       "    <tr>\n",
       "      <th>1555</th>\n",
       "      <td>4k</td>\n",
       "      <td>0</td>\n",
       "      <td>928.80</td>\n",
       "    </tr>\n",
       "    <tr>\n",
       "      <th>1556</th>\n",
       "      <td>4k</td>\n",
       "      <td>0</td>\n",
       "      <td>1209.60</td>\n",
       "    </tr>\n",
       "    <tr>\n",
       "      <th>1557</th>\n",
       "      <td>4k</td>\n",
       "      <td>0</td>\n",
       "      <td>1706.40</td>\n",
       "    </tr>\n",
       "    <tr>\n",
       "      <th>1565</th>\n",
       "      <td>4k</td>\n",
       "      <td>0</td>\n",
       "      <td>550.80</td>\n",
       "    </tr>\n",
       "    <tr>\n",
       "      <th>1570</th>\n",
       "      <td>4k</td>\n",
       "      <td>0</td>\n",
       "      <td>410.40</td>\n",
       "    </tr>\n",
       "    <tr>\n",
       "      <th>1774</th>\n",
       "      <td>4k</td>\n",
       "      <td>0</td>\n",
       "      <td>648.00</td>\n",
       "    </tr>\n",
       "    <tr>\n",
       "      <th>1776</th>\n",
       "      <td>4k</td>\n",
       "      <td>0</td>\n",
       "      <td>594.00</td>\n",
       "    </tr>\n",
       "    <tr>\n",
       "      <th>1789</th>\n",
       "      <td>4k</td>\n",
       "      <td>0</td>\n",
       "      <td>896.40</td>\n",
       "    </tr>\n",
       "    <tr>\n",
       "      <th>1803</th>\n",
       "      <td>4k</td>\n",
       "      <td>0</td>\n",
       "      <td>1036.80</td>\n",
       "    </tr>\n",
       "    <tr>\n",
       "      <th>1804</th>\n",
       "      <td>4k</td>\n",
       "      <td>0</td>\n",
       "      <td>1134.00</td>\n",
       "    </tr>\n",
       "    <tr>\n",
       "      <th>1806</th>\n",
       "      <td>4k</td>\n",
       "      <td>0</td>\n",
       "      <td>1036.80</td>\n",
       "    </tr>\n",
       "    <tr>\n",
       "      <th>1807</th>\n",
       "      <td>4k</td>\n",
       "      <td>0</td>\n",
       "      <td>648.00</td>\n",
       "    </tr>\n",
       "    <tr>\n",
       "      <th>3447</th>\n",
       "      <td>4k</td>\n",
       "      <td>0</td>\n",
       "      <td>2160.00</td>\n",
       "    </tr>\n",
       "    <tr>\n",
       "      <th>3481</th>\n",
       "      <td>4k</td>\n",
       "      <td>0</td>\n",
       "      <td>324.00</td>\n",
       "    </tr>\n",
       "    <tr>\n",
       "      <th>3482</th>\n",
       "      <td>4k</td>\n",
       "      <td>0</td>\n",
       "      <td>486.00</td>\n",
       "    </tr>\n",
       "    <tr>\n",
       "      <th>3772</th>\n",
       "      <td>4k</td>\n",
       "      <td>0</td>\n",
       "      <td>346.87</td>\n",
       "    </tr>\n",
       "    <tr>\n",
       "      <th>3774</th>\n",
       "      <td>4k</td>\n",
       "      <td>0</td>\n",
       "      <td>359.99</td>\n",
       "    </tr>\n",
       "    <tr>\n",
       "      <th>3824</th>\n",
       "      <td>4k</td>\n",
       "      <td>0</td>\n",
       "      <td>523.75</td>\n",
       "    </tr>\n",
       "    <tr>\n",
       "      <th>3825</th>\n",
       "      <td>4k</td>\n",
       "      <td>0</td>\n",
       "      <td>405.61</td>\n",
       "    </tr>\n",
       "    <tr>\n",
       "      <th>4043</th>\n",
       "      <td>4k</td>\n",
       "      <td>0</td>\n",
       "      <td>1440.00</td>\n",
       "    </tr>\n",
       "    <tr>\n",
       "      <th>4044</th>\n",
       "      <td>4k</td>\n",
       "      <td>0</td>\n",
       "      <td>1049.59</td>\n",
       "    </tr>\n",
       "    <tr>\n",
       "      <th>4045</th>\n",
       "      <td>4k</td>\n",
       "      <td>0</td>\n",
       "      <td>509.59</td>\n",
       "    </tr>\n",
       "    <tr>\n",
       "      <th>4046</th>\n",
       "      <td>4k</td>\n",
       "      <td>0</td>\n",
       "      <td>754.92</td>\n",
       "    </tr>\n",
       "    <tr>\n",
       "      <th>4061</th>\n",
       "      <td>4k</td>\n",
       "      <td>0</td>\n",
       "      <td>769.99</td>\n",
       "    </tr>\n",
       "    <tr>\n",
       "      <th>4062</th>\n",
       "      <td>4k</td>\n",
       "      <td>0</td>\n",
       "      <td>754.92</td>\n",
       "    </tr>\n",
       "    <tr>\n",
       "      <th>4063</th>\n",
       "      <td>4k</td>\n",
       "      <td>0</td>\n",
       "      <td>1170.00</td>\n",
       "    </tr>\n",
       "    <tr>\n",
       "      <th>4629</th>\n",
       "      <td>4k</td>\n",
       "      <td>0</td>\n",
       "      <td>323.99</td>\n",
       "    </tr>\n",
       "    <tr>\n",
       "      <th>4630</th>\n",
       "      <td>4k</td>\n",
       "      <td>0</td>\n",
       "      <td>296.64</td>\n",
       "    </tr>\n",
       "    <tr>\n",
       "      <th>4667</th>\n",
       "      <td>4k</td>\n",
       "      <td>0</td>\n",
       "      <td>131.99</td>\n",
       "    </tr>\n",
       "    <tr>\n",
       "      <th>4668</th>\n",
       "      <td>4k</td>\n",
       "      <td>0</td>\n",
       "      <td>149.99</td>\n",
       "    </tr>\n",
       "    <tr>\n",
       "      <th>4669</th>\n",
       "      <td>4k</td>\n",
       "      <td>0</td>\n",
       "      <td>233.99</td>\n",
       "    </tr>\n",
       "  </tbody>\n",
       "</table>\n",
       "</div>"
      ],
      "text/plain": [
       "     max_resolution max_FPS  Price_In_Dollars\n",
       "311              4k       0            345.60\n",
       "400              4k       0            367.20\n",
       "767              4k       0            399.60\n",
       "1230             4k       0            691.20\n",
       "1355             4k       0            496.80\n",
       "1401             4k       0            324.00\n",
       "1402             4k       0            518.40\n",
       "1403             4k       0            594.00\n",
       "1404             4k       0            313.20\n",
       "1551             4k       0            734.40\n",
       "1552             4k       0            378.00\n",
       "1553             4k       0           2160.00\n",
       "1554             4k       0            777.60\n",
       "1555             4k       0            928.80\n",
       "1556             4k       0           1209.60\n",
       "1557             4k       0           1706.40\n",
       "1565             4k       0            550.80\n",
       "1570             4k       0            410.40\n",
       "1774             4k       0            648.00\n",
       "1776             4k       0            594.00\n",
       "1789             4k       0            896.40\n",
       "1803             4k       0           1036.80\n",
       "1804             4k       0           1134.00\n",
       "1806             4k       0           1036.80\n",
       "1807             4k       0            648.00\n",
       "3447             4k       0           2160.00\n",
       "3481             4k       0            324.00\n",
       "3482             4k       0            486.00\n",
       "3772             4k       0            346.87\n",
       "3774             4k       0            359.99\n",
       "3824             4k       0            523.75\n",
       "3825             4k       0            405.61\n",
       "4043             4k       0           1440.00\n",
       "4044             4k       0           1049.59\n",
       "4045             4k       0            509.59\n",
       "4046             4k       0            754.92\n",
       "4061             4k       0            769.99\n",
       "4062             4k       0            754.92\n",
       "4063             4k       0           1170.00\n",
       "4629             4k       0            323.99\n",
       "4630             4k       0            296.64\n",
       "4667             4k       0            131.99\n",
       "4668             4k       0            149.99\n",
       "4669             4k       0            233.99"
      ]
     },
     "execution_count": 24,
     "metadata": {},
     "output_type": "execute_result"
    }
   ],
   "source": [
    "df[(df['max_FPS'] == 0) & (df['max_resolution'] == '4k')][['max_resolution', 'max_FPS', 'Price_In_Dollars']]"
   ]
  },
  {
   "cell_type": "code",
   "execution_count": 25,
   "id": "1ab1a00b",
   "metadata": {},
   "outputs": [],
   "source": [
    "tempdf = df[(df['max_FPS'] != 0)]"
   ]
  },
  {
   "cell_type": "code",
   "execution_count": 26,
   "id": "095934dc",
   "metadata": {},
   "outputs": [
    {
     "data": {
      "text/html": [
       "<div>\n",
       "<style scoped>\n",
       "    .dataframe tbody tr th:only-of-type {\n",
       "        vertical-align: middle;\n",
       "    }\n",
       "\n",
       "    .dataframe tbody tr th {\n",
       "        vertical-align: top;\n",
       "    }\n",
       "\n",
       "    .dataframe thead th {\n",
       "        text-align: right;\n",
       "    }\n",
       "</style>\n",
       "<table border=\"1\" class=\"dataframe\">\n",
       "  <thead>\n",
       "    <tr style=\"text-align: right;\">\n",
       "      <th></th>\n",
       "      <th>max_resolution</th>\n",
       "      <th>max_FPS</th>\n",
       "      <th>Price_In_Dollars</th>\n",
       "    </tr>\n",
       "  </thead>\n",
       "  <tbody>\n",
       "    <tr>\n",
       "      <th>2287</th>\n",
       "      <td>4k</td>\n",
       "      <td>60</td>\n",
       "      <td>270.00</td>\n",
       "    </tr>\n",
       "    <tr>\n",
       "      <th>1560</th>\n",
       "      <td>4k</td>\n",
       "      <td>240</td>\n",
       "      <td>961.20</td>\n",
       "    </tr>\n",
       "    <tr>\n",
       "      <th>2784</th>\n",
       "      <td>4k</td>\n",
       "      <td>30</td>\n",
       "      <td>183.60</td>\n",
       "    </tr>\n",
       "    <tr>\n",
       "      <th>339</th>\n",
       "      <td>4k</td>\n",
       "      <td>30</td>\n",
       "      <td>410.40</td>\n",
       "    </tr>\n",
       "    <tr>\n",
       "      <th>4925</th>\n",
       "      <td>4k</td>\n",
       "      <td>60</td>\n",
       "      <td>229.99</td>\n",
       "    </tr>\n",
       "    <tr>\n",
       "      <th>3416</th>\n",
       "      <td>4k</td>\n",
       "      <td>30</td>\n",
       "      <td>432.00</td>\n",
       "    </tr>\n",
       "    <tr>\n",
       "      <th>2931</th>\n",
       "      <td>4k</td>\n",
       "      <td>120</td>\n",
       "      <td>378.00</td>\n",
       "    </tr>\n",
       "    <tr>\n",
       "      <th>4227</th>\n",
       "      <td>4k</td>\n",
       "      <td>240</td>\n",
       "      <td>499.99</td>\n",
       "    </tr>\n",
       "    <tr>\n",
       "      <th>2896</th>\n",
       "      <td>4k</td>\n",
       "      <td>240</td>\n",
       "      <td>410.40</td>\n",
       "    </tr>\n",
       "    <tr>\n",
       "      <th>3051</th>\n",
       "      <td>4k</td>\n",
       "      <td>120</td>\n",
       "      <td>399.60</td>\n",
       "    </tr>\n",
       "    <tr>\n",
       "      <th>1331</th>\n",
       "      <td>4k</td>\n",
       "      <td>60</td>\n",
       "      <td>464.40</td>\n",
       "    </tr>\n",
       "    <tr>\n",
       "      <th>1995</th>\n",
       "      <td>4k</td>\n",
       "      <td>120</td>\n",
       "      <td>334.80</td>\n",
       "    </tr>\n",
       "    <tr>\n",
       "      <th>1559</th>\n",
       "      <td>4k</td>\n",
       "      <td>240</td>\n",
       "      <td>810.00</td>\n",
       "    </tr>\n",
       "    <tr>\n",
       "      <th>4290</th>\n",
       "      <td>4k</td>\n",
       "      <td>120</td>\n",
       "      <td>479.99</td>\n",
       "    </tr>\n",
       "    <tr>\n",
       "      <th>3941</th>\n",
       "      <td>4k</td>\n",
       "      <td>240</td>\n",
       "      <td>659.00</td>\n",
       "    </tr>\n",
       "    <tr>\n",
       "      <th>4426</th>\n",
       "      <td>4k</td>\n",
       "      <td>240</td>\n",
       "      <td>220.80</td>\n",
       "    </tr>\n",
       "    <tr>\n",
       "      <th>2823</th>\n",
       "      <td>4k</td>\n",
       "      <td>60</td>\n",
       "      <td>313.20</td>\n",
       "    </tr>\n",
       "    <tr>\n",
       "      <th>3337</th>\n",
       "      <td>4k</td>\n",
       "      <td>60</td>\n",
       "      <td>259.20</td>\n",
       "    </tr>\n",
       "    <tr>\n",
       "      <th>4161</th>\n",
       "      <td>4k</td>\n",
       "      <td>240</td>\n",
       "      <td>448.11</td>\n",
       "    </tr>\n",
       "    <tr>\n",
       "      <th>1941</th>\n",
       "      <td>4k</td>\n",
       "      <td>120</td>\n",
       "      <td>432.00</td>\n",
       "    </tr>\n",
       "    <tr>\n",
       "      <th>2596</th>\n",
       "      <td>4k</td>\n",
       "      <td>30</td>\n",
       "      <td>496.80</td>\n",
       "    </tr>\n",
       "    <tr>\n",
       "      <th>4548</th>\n",
       "      <td>4k</td>\n",
       "      <td>60</td>\n",
       "      <td>140.78</td>\n",
       "    </tr>\n",
       "    <tr>\n",
       "      <th>434</th>\n",
       "      <td>4k</td>\n",
       "      <td>60</td>\n",
       "      <td>291.60</td>\n",
       "    </tr>\n",
       "    <tr>\n",
       "      <th>3920</th>\n",
       "      <td>4k</td>\n",
       "      <td>240</td>\n",
       "      <td>99.30</td>\n",
       "    </tr>\n",
       "    <tr>\n",
       "      <th>1690</th>\n",
       "      <td>4k</td>\n",
       "      <td>60</td>\n",
       "      <td>345.60</td>\n",
       "    </tr>\n",
       "    <tr>\n",
       "      <th>2466</th>\n",
       "      <td>4k</td>\n",
       "      <td>120</td>\n",
       "      <td>270.00</td>\n",
       "    </tr>\n",
       "    <tr>\n",
       "      <th>4616</th>\n",
       "      <td>4k</td>\n",
       "      <td>30</td>\n",
       "      <td>430.92</td>\n",
       "    </tr>\n",
       "    <tr>\n",
       "      <th>3895</th>\n",
       "      <td>4k</td>\n",
       "      <td>240</td>\n",
       "      <td>399.00</td>\n",
       "    </tr>\n",
       "    <tr>\n",
       "      <th>1825</th>\n",
       "      <td>4k</td>\n",
       "      <td>30</td>\n",
       "      <td>259.20</td>\n",
       "    </tr>\n",
       "    <tr>\n",
       "      <th>1243</th>\n",
       "      <td>4k</td>\n",
       "      <td>240</td>\n",
       "      <td>972.00</td>\n",
       "    </tr>\n",
       "  </tbody>\n",
       "</table>\n",
       "</div>"
      ],
      "text/plain": [
       "     max_resolution max_FPS  Price_In_Dollars\n",
       "2287             4k      60            270.00\n",
       "1560             4k     240            961.20\n",
       "2784             4k      30            183.60\n",
       "339              4k      30            410.40\n",
       "4925             4k      60            229.99\n",
       "3416             4k      30            432.00\n",
       "2931             4k     120            378.00\n",
       "4227             4k     240            499.99\n",
       "2896             4k     240            410.40\n",
       "3051             4k     120            399.60\n",
       "1331             4k      60            464.40\n",
       "1995             4k     120            334.80\n",
       "1559             4k     240            810.00\n",
       "4290             4k     120            479.99\n",
       "3941             4k     240            659.00\n",
       "4426             4k     240            220.80\n",
       "2823             4k      60            313.20\n",
       "3337             4k      60            259.20\n",
       "4161             4k     240            448.11\n",
       "1941             4k     120            432.00\n",
       "2596             4k      30            496.80\n",
       "4548             4k      60            140.78\n",
       "434              4k      60            291.60\n",
       "3920             4k     240             99.30\n",
       "1690             4k      60            345.60\n",
       "2466             4k     120            270.00\n",
       "4616             4k      30            430.92\n",
       "3895             4k     240            399.00\n",
       "1825             4k      30            259.20\n",
       "1243             4k     240            972.00"
      ]
     },
     "execution_count": 26,
     "metadata": {},
     "output_type": "execute_result"
    }
   ],
   "source": [
    "df[(df['max_FPS'] != 0) & (df['max_resolution'] == '4k')][['max_resolution', 'max_FPS', 'Price_In_Dollars']].sample(30)"
   ]
  },
  {
   "cell_type": "code",
   "execution_count": 27,
   "id": "58079406",
   "metadata": {},
   "outputs": [
    {
     "data": {
      "text/plain": [
       "max_resolution\n",
       "1080p    2640\n",
       "4k       1679\n",
       "8k        295\n",
       "720p      264\n",
       "1440p     103\n",
       "Name: count, dtype: int64"
      ]
     },
     "execution_count": 27,
     "metadata": {},
     "output_type": "execute_result"
    }
   ],
   "source": [
    "df['max_resolution'].value_counts()"
   ]
  },
  {
   "cell_type": "code",
   "execution_count": 28,
   "id": "2ded76be",
   "metadata": {},
   "outputs": [],
   "source": [
    "df = df.drop(columns = 'max_FPS')"
   ]
  },
  {
   "cell_type": "markdown",
   "id": "de900b39",
   "metadata": {},
   "source": [
    "##### Fixing number_of_camera_features\n"
   ]
  },
  {
   "cell_type": "code",
   "execution_count": 29,
   "id": "21179e56",
   "metadata": {},
   "outputs": [
    {
     "data": {
      "text/plain": [
       "number_of_camera_features\n",
       "Medium Features    2474\n",
       "Less Features      2443\n",
       "High Features        64\n",
       "Name: count, dtype: int64"
      ]
     },
     "execution_count": 29,
     "metadata": {},
     "output_type": "execute_result"
    }
   ],
   "source": [
    "from src.eda import transform_camera_features\n",
    "\n",
    "df['number_of_camera_features'].apply(transform_camera_features).value_counts()"
   ]
  },
  {
   "cell_type": "markdown",
   "id": "61b708dd",
   "metadata": {},
   "source": [
    "##### Fixing RAM\n"
   ]
  },
  {
   "cell_type": "code",
   "execution_count": 30,
   "id": "b92dd788",
   "metadata": {},
   "outputs": [],
   "source": [
    "from src.eda import transform_ram\n",
    "\n",
    "df['ram'] = df['ram'].apply(transform_ram)"
   ]
  },
  {
   "cell_type": "code",
   "execution_count": 31,
   "id": "2096307f",
   "metadata": {},
   "outputs": [
    {
     "data": {
      "text/plain": [
       "ram\n",
       "<= 4     2684\n",
       "6 - 8    1781\n",
       "8-16      507\n",
       "16+         9\n",
       "Name: count, dtype: int64"
      ]
     },
     "execution_count": 31,
     "metadata": {},
     "output_type": "execute_result"
    }
   ],
   "source": [
    "df['ram'].value_counts()"
   ]
  },
  {
   "cell_type": "markdown",
   "id": "4c6ec2f8",
   "metadata": {},
   "source": [
    "##### Fixing Bluetooth version\n"
   ]
  },
  {
   "cell_type": "code",
   "execution_count": 32,
   "id": "a0e0d98a",
   "metadata": {},
   "outputs": [],
   "source": [
    "from src.eda import transform_bluetooth_version\n",
    "\n",
    "df['Bluetooth_version'] = df['Bluetooth_version'].apply(transform_bluetooth_version)"
   ]
  },
  {
   "cell_type": "markdown",
   "id": "24d2ec5e",
   "metadata": {},
   "source": [
    "#### High Cardinality Columns\n"
   ]
  },
  {
   "cell_type": "markdown",
   "id": "2785f465",
   "metadata": {},
   "source": [
    "##### Fixing PPI\n"
   ]
  },
  {
   "cell_type": "code",
   "execution_count": 33,
   "id": "4372f031",
   "metadata": {},
   "outputs": [
    {
     "data": {
      "text/html": [
       "<div>\n",
       "<style scoped>\n",
       "    .dataframe tbody tr th:only-of-type {\n",
       "        vertical-align: middle;\n",
       "    }\n",
       "\n",
       "    .dataframe tbody tr th {\n",
       "        vertical-align: top;\n",
       "    }\n",
       "\n",
       "    .dataframe thead th {\n",
       "        text-align: right;\n",
       "    }\n",
       "</style>\n",
       "<table border=\"1\" class=\"dataframe\">\n",
       "  <thead>\n",
       "    <tr style=\"text-align: right;\">\n",
       "      <th></th>\n",
       "      <th>Resolution_Height</th>\n",
       "      <th>Resolution_Width</th>\n",
       "    </tr>\n",
       "  </thead>\n",
       "  <tbody>\n",
       "    <tr>\n",
       "      <th>58</th>\n",
       "      <td>960.0</td>\n",
       "      <td>540.0</td>\n",
       "    </tr>\n",
       "    <tr>\n",
       "      <th>1307</th>\n",
       "      <td>1920.0</td>\n",
       "      <td>1080.0</td>\n",
       "    </tr>\n",
       "  </tbody>\n",
       "</table>\n",
       "</div>"
      ],
      "text/plain": [
       "     Resolution_Height Resolution_Width\n",
       "58               960.0            540.0\n",
       "1307            1920.0           1080.0"
      ]
     },
     "execution_count": 33,
     "metadata": {},
     "output_type": "execute_result"
    }
   ],
   "source": [
    "df[df['PPI'].str.contains('T')][['Resolution_Height', 'Resolution_Width']]"
   ]
  },
  {
   "cell_type": "code",
   "execution_count": 34,
   "id": "4a4314c3",
   "metadata": {},
   "outputs": [],
   "source": [
    "df.loc[[58, 1307, 2088], 'PPI'] = 400"
   ]
  },
  {
   "cell_type": "code",
   "execution_count": 35,
   "id": "089472be",
   "metadata": {},
   "outputs": [],
   "source": [
    "df['PPI'] = df['PPI'].astype('int')"
   ]
  },
  {
   "cell_type": "markdown",
   "id": "bb36e1bc",
   "metadata": {},
   "source": [
    "##### Fixing Selfiecamera_MP\n"
   ]
  },
  {
   "cell_type": "code",
   "execution_count": 36,
   "id": "a01e7731",
   "metadata": {},
   "outputs": [
    {
     "name": "stderr",
     "output_type": "stream",
     "text": [
      "/var/folders/fd/mwtfcb8151d_f4770qn_971w0000gn/T/ipykernel_79858/201384210.py:4: FutureWarning: The behavior of Series.replace (and DataFrame.replace) with CategoricalDtype is deprecated. In a future version, replace will only be used for cases that preserve the categories. To change the categories, use ser.cat.rename_categories instead.\n",
      "  df['selfiecamera_mp'] = df['selfiecamera_mp'].replace(0, np.nan)\n"
     ]
    }
   ],
   "source": [
    "uses_main_cameras = ['ZTE nubia X', 'ZTE nubia Z20', 'Microsoft Surface Duo', 'Asus Zenfone 6 ZS630KL', 'Asus Zenfone 7', 'Asus Zenfone 7 Pro', 'Asus Zenfone 8 Flip', \n",
    "'Honor 7i', 'Huawei Mate X', 'Xiaomi Mi Mix Alpha', 'vivo NEX Dual Display', 'Samsung Galaxy A80', 'Oppo N1', 'Oppo N1 mini']\n",
    "\n",
    "df['selfiecamera_mp'] = df['selfiecamera_mp'].replace(0, np.nan)\n",
    "\n",
    "\n",
    "df['selfiecamera_mp'] = df['selfiecamera_mp'].astype('float')"
   ]
  },
  {
   "cell_type": "code",
   "execution_count": 37,
   "id": "a0f80e3b",
   "metadata": {},
   "outputs": [],
   "source": [
    "def fill_mp(row):\n",
    "    if row['Name'] in uses_main_cameras:\n",
    "        return row['maincamera_mp']\n",
    "    return 0\n",
    "\n",
    "df.loc[df['selfiecamera_mp'].isna(), 'selfiecamera_mp'] = df[df['selfiecamera_mp'].isna()].apply(fill_mp, axis = 1)\n",
    "\n",
    "df['selfiecamera_mp'] = df['selfiecamera_mp'].astype('category')"
   ]
  },
  {
   "cell_type": "code",
   "execution_count": 38,
   "id": "e19dcfe1",
   "metadata": {},
   "outputs": [],
   "source": [
    "def transform_selfie_camera(camera):\n",
    "\n",
    "    if camera <= 8:\n",
    "        return 'Low'\n",
    "    if camera <= 16:\n",
    "        return 'Medium'\n",
    "    if camera <= 48:\n",
    "        return 'High'\n",
    "    return 'Ultra'\n"
   ]
  },
  {
   "cell_type": "code",
   "execution_count": 39,
   "id": "72bd7dcb",
   "metadata": {},
   "outputs": [],
   "source": [
    "df['selfiecamera_mp'] = df['selfiecamera_mp'].apply(transform_selfie_camera)"
   ]
  },
  {
   "cell_type": "markdown",
   "id": "1534d629",
   "metadata": {},
   "source": [
    "##### Fixing MainCamera_MP\n"
   ]
  },
  {
   "cell_type": "code",
   "execution_count": 40,
   "id": "1d5fb27b",
   "metadata": {},
   "outputs": [],
   "source": [
    "df['maincamera_mp'] = df['maincamera_mp'].apply(transform_selfie_camera)"
   ]
  },
  {
   "cell_type": "markdown",
   "id": "0e4af7e2",
   "metadata": {},
   "source": [
    "##### Fixing Resolution_Width\n"
   ]
  },
  {
   "cell_type": "code",
   "execution_count": 41,
   "id": "e994d1c6",
   "metadata": {},
   "outputs": [],
   "source": [
    "def transform_resolution_display(res):\n",
    "    if res < 1366:\n",
    "        return 'Low'\n",
    "    elif res < 1920:\n",
    "        return 'Medium'\n",
    "    else:\n",
    "        return 'High'"
   ]
  },
  {
   "cell_type": "code",
   "execution_count": 42,
   "id": "6276d6e1",
   "metadata": {},
   "outputs": [],
   "source": [
    "df['Resolution_Width'] = df['Resolution_Width'].apply(transform_resolution_display)"
   ]
  },
  {
   "cell_type": "markdown",
   "id": "c3cb3ee1",
   "metadata": {},
   "source": [
    "##### Fixing Resolution_Height\n"
   ]
  },
  {
   "cell_type": "code",
   "execution_count": 43,
   "id": "bbf0368f",
   "metadata": {},
   "outputs": [],
   "source": [
    "def transform_resolution_display(res):\n",
    "    if res < 1080:\n",
    "        return 'Low'\n",
    "    elif res < 2160:\n",
    "        return 'Medium'\n",
    "    else:\n",
    "        return 'High'"
   ]
  },
  {
   "cell_type": "code",
   "execution_count": 44,
   "id": "eb156052",
   "metadata": {},
   "outputs": [],
   "source": [
    "df['Resolution_Height'] = df['Resolution_Height'].apply(transform_resolution_display)"
   ]
  },
  {
   "cell_type": "code",
   "execution_count": 45,
   "id": "2e7e44ce",
   "metadata": {},
   "outputs": [
    {
     "name": "stderr",
     "output_type": "stream",
     "text": [
      "/Users/jaswanth/mydocs/myprojects/Mobile Price Prediction/src/eda.py:124: FutureWarning: \n",
      "\n",
      "Passing `palette` without assigning `hue` is deprecated and will be removed in v0.14.0. Assign the `x` variable to `hue` and set `legend=False` for the same effect.\n",
      "\n",
      "  sns.barplot(data=df, x = x, y = y, palette='pastel', order = order)\n"
     ]
    },
    {
     "data": {
      "image/png": "[encoded data removed]",
      "text/plain": [
       "<Figure size 640x480 with 1 Axes>"
      ]
     },
     "metadata": {},
     "output_type": "display_data"
    }
   ],
   "source": [
    "# After transformation\n",
    "from src.eda import plot_after_transformation\n",
    "\n",
    "plot_after_transformation(df, 'Resolution_Height', 'Price_In_Dollars', ['Low', 'Medium', 'High'])"
   ]
  },
  {
   "cell_type": "markdown",
   "id": "b0f66829",
   "metadata": {},
   "source": [
    "##### Fixing os version\n"
   ]
  },
  {
   "cell_type": "code",
   "execution_count": 46,
   "id": "19640210",
   "metadata": {},
   "outputs": [],
   "source": [
    "df['operating_system'] = df['os_version'].str.split(' ').str[0]"
   ]
  },
  {
   "cell_type": "code",
   "execution_count": 47,
   "id": "2d43a527",
   "metadata": {},
   "outputs": [],
   "source": [
    "df['operating_system'] = df['operating_system'].apply(lambda x : x if x in ['Android', 'IOS', 'Harmony'] else 'Others')"
   ]
  },
  {
   "cell_type": "code",
   "execution_count": 48,
   "id": "6ab8c464",
   "metadata": {},
   "outputs": [],
   "source": [
    "df = df.drop(columns = 'os_version')"
   ]
  },
  {
   "cell_type": "markdown",
   "id": "db99d284",
   "metadata": {},
   "source": [
    "Fixing CPU_Transistor_Size\n"
   ]
  },
  {
   "cell_type": "code",
   "execution_count": 52,
   "id": "4276c102",
   "metadata": {},
   "outputs": [],
   "source": [
    "df['CPU_Transistor_Size'] = df['CPU_Transistor_Size'].astype('float')"
   ]
  },
  {
   "cell_type": "code",
   "execution_count": 53,
   "id": "23b31416",
   "metadata": {},
   "outputs": [],
   "source": [
    "df['CPU_Transistor_Size'] = 1/df['CPU_Transistor_Size']\n",
    "df['CPU_Transistor_Size'] = df['CPU_Transistor_Size'].round()"
   ]
  },
  {
   "cell_type": "code",
   "execution_count": 54,
   "id": "7aa2dfc0",
   "metadata": {},
   "outputs": [],
   "source": [
    "def transform_CPU_transistor_size(cpu):\n",
    "\n",
    "    if cpu < 5:\n",
    "        return 'Less than 5nm'\n",
    "    \n",
    "    if cpu < 10:\n",
    "        return '5nm - 10nm'\n",
    "\n",
    "    if cpu < 20:\n",
    "        return '10nm - 20nm'\n",
    "\n",
    "    return '> 20nm'"
   ]
  },
  {
   "cell_type": "code",
   "execution_count": 55,
   "id": "7431a90e",
   "metadata": {},
   "outputs": [],
   "source": [
    "df['CPU_Transistor_Size'] = df['CPU_Transistor_Size'].apply(transform_CPU_transistor_size)"
   ]
  },
  {
   "cell_type": "code",
   "execution_count": 58,
   "id": "5f894c0d",
   "metadata": {},
   "outputs": [
    {
     "data": {
      "text/html": [
       "<div>\n",
       "<style scoped>\n",
       "    .dataframe tbody tr th:only-of-type {\n",
       "        vertical-align: middle;\n",
       "    }\n",
       "\n",
       "    .dataframe tbody tr th {\n",
       "        vertical-align: top;\n",
       "    }\n",
       "\n",
       "    .dataframe thead th {\n",
       "        text-align: right;\n",
       "    }\n",
       "</style>\n",
       "<table border=\"1\" class=\"dataframe\">\n",
       "  <thead>\n",
       "    <tr style=\"text-align: right;\">\n",
       "      <th></th>\n",
       "      <th>Name</th>\n",
       "      <th>Sound_3.5mmjack</th>\n",
       "      <th>Brand</th>\n",
       "      <th>Model</th>\n",
       "      <th>has_LTE</th>\n",
       "      <th>has_5G</th>\n",
       "      <th>has_CDMA</th>\n",
       "      <th>has_CDMA2000</th>\n",
       "      <th>has_EVDO</th>\n",
       "      <th>number_of_sims</th>\n",
       "      <th>...</th>\n",
       "      <th>ram</th>\n",
       "      <th>Total_Pixels</th>\n",
       "      <th>number_of_camera_features</th>\n",
       "      <th>maincamera_mp</th>\n",
       "      <th>selfiecamera_mp</th>\n",
       "      <th>latest_wifi_version</th>\n",
       "      <th>Bluetooth_version</th>\n",
       "      <th>has_nfc</th>\n",
       "      <th>USB_Type</th>\n",
       "      <th>operating_system</th>\n",
       "    </tr>\n",
       "  </thead>\n",
       "  <tbody>\n",
       "    <tr>\n",
       "      <th>0</th>\n",
       "      <td>Meizu PRO 5 mini</td>\n",
       "      <td>Yes</td>\n",
       "      <td>Meizu</td>\n",
       "      <td>PRO 5 mini</td>\n",
       "      <td>1.0</td>\n",
       "      <td>0.0</td>\n",
       "      <td>0.0</td>\n",
       "      <td>0.0</td>\n",
       "      <td>0.0</td>\n",
       "      <td>2.0</td>\n",
       "      <td>...</td>\n",
       "      <td>&lt;= 4</td>\n",
       "      <td>2073600.0</td>\n",
       "      <td>3.0</td>\n",
       "      <td>Medium</td>\n",
       "      <td>Low</td>\n",
       "      <td>2</td>\n",
       "      <td>Less than 4</td>\n",
       "      <td>0.0</td>\n",
       "      <td>Type-B</td>\n",
       "      <td>Android</td>\n",
       "    </tr>\n",
       "    <tr>\n",
       "      <th>1</th>\n",
       "      <td>ZTE Blade 11 Prime</td>\n",
       "      <td>Yes</td>\n",
       "      <td>ZTE</td>\n",
       "      <td>Blade 11 Prime</td>\n",
       "      <td>1.0</td>\n",
       "      <td>0.0</td>\n",
       "      <td>0.0</td>\n",
       "      <td>0.0</td>\n",
       "      <td>0.0</td>\n",
       "      <td>2.0</td>\n",
       "      <td>...</td>\n",
       "      <td>&lt;= 4</td>\n",
       "      <td>1152000.0</td>\n",
       "      <td>3.0</td>\n",
       "      <td>Medium</td>\n",
       "      <td>Low</td>\n",
       "      <td>2</td>\n",
       "      <td>5</td>\n",
       "      <td>0.0</td>\n",
       "      <td>Type-C</td>\n",
       "      <td>Android</td>\n",
       "    </tr>\n",
       "    <tr>\n",
       "      <th>2</th>\n",
       "      <td>Umidigi One Max</td>\n",
       "      <td>Yes</td>\n",
       "      <td>Umidigi</td>\n",
       "      <td>One Max</td>\n",
       "      <td>1.0</td>\n",
       "      <td>0.0</td>\n",
       "      <td>1.0</td>\n",
       "      <td>0.0</td>\n",
       "      <td>1.0</td>\n",
       "      <td>2.0</td>\n",
       "      <td>...</td>\n",
       "      <td>&lt;= 4</td>\n",
       "      <td>1094400.0</td>\n",
       "      <td>3.0</td>\n",
       "      <td>Medium</td>\n",
       "      <td>Medium</td>\n",
       "      <td>1</td>\n",
       "      <td>Less than 4</td>\n",
       "      <td>1.0</td>\n",
       "      <td>Type-C</td>\n",
       "      <td>Android</td>\n",
       "    </tr>\n",
       "    <tr>\n",
       "      <th>3</th>\n",
       "      <td>Coolpad 3632</td>\n",
       "      <td>Yes</td>\n",
       "      <td>Coolpad</td>\n",
       "      <td>3632</td>\n",
       "      <td>1.0</td>\n",
       "      <td>0.0</td>\n",
       "      <td>0.0</td>\n",
       "      <td>0.0</td>\n",
       "      <td>0.0</td>\n",
       "      <td>2.0</td>\n",
       "      <td>...</td>\n",
       "      <td>&lt;= 4</td>\n",
       "      <td>409920.0</td>\n",
       "      <td>2.0</td>\n",
       "      <td>Low</td>\n",
       "      <td>Low</td>\n",
       "      <td>1</td>\n",
       "      <td>Less than 4</td>\n",
       "      <td>0.0</td>\n",
       "      <td>Type-B</td>\n",
       "      <td>Android</td>\n",
       "    </tr>\n",
       "    <tr>\n",
       "      <th>4</th>\n",
       "      <td>Coolpad Porto</td>\n",
       "      <td>Yes</td>\n",
       "      <td>Coolpad</td>\n",
       "      <td>Porto</td>\n",
       "      <td>1.0</td>\n",
       "      <td>0.0</td>\n",
       "      <td>0.0</td>\n",
       "      <td>0.0</td>\n",
       "      <td>0.0</td>\n",
       "      <td>1.0</td>\n",
       "      <td>...</td>\n",
       "      <td>&lt;= 4</td>\n",
       "      <td>518400.0</td>\n",
       "      <td>1.0</td>\n",
       "      <td>Low</td>\n",
       "      <td>Low</td>\n",
       "      <td>1</td>\n",
       "      <td>Less than 4</td>\n",
       "      <td>0.0</td>\n",
       "      <td>Type-B</td>\n",
       "      <td>Android</td>\n",
       "    </tr>\n",
       "  </tbody>\n",
       "</table>\n",
       "<p>5 rows × 62 columns</p>\n",
       "</div>"
      ],
      "text/plain": [
       "                 Name Sound_3.5mmjack    Brand           Model has_LTE has_5G  \\\n",
       "0    Meizu PRO 5 mini             Yes    Meizu      PRO 5 mini     1.0    0.0   \n",
       "1  ZTE Blade 11 Prime             Yes      ZTE  Blade 11 Prime     1.0    0.0   \n",
       "2     Umidigi One Max             Yes  Umidigi         One Max     1.0    0.0   \n",
       "3        Coolpad 3632             Yes  Coolpad            3632     1.0    0.0   \n",
       "4       Coolpad Porto             Yes  Coolpad           Porto     1.0    0.0   \n",
       "\n",
       "  has_CDMA has_CDMA2000 has_EVDO number_of_sims  ...   ram Total_Pixels  \\\n",
       "0      0.0          0.0      0.0            2.0  ...  <= 4    2073600.0   \n",
       "1      0.0          0.0      0.0            2.0  ...  <= 4    1152000.0   \n",
       "2      1.0          0.0      1.0            2.0  ...  <= 4    1094400.0   \n",
       "3      0.0          0.0      0.0            2.0  ...  <= 4     409920.0   \n",
       "4      0.0          0.0      0.0            1.0  ...  <= 4     518400.0   \n",
       "\n",
       "  number_of_camera_features maincamera_mp  selfiecamera_mp  \\\n",
       "0                       3.0        Medium              Low   \n",
       "1                       3.0        Medium              Low   \n",
       "2                       3.0        Medium           Medium   \n",
       "3                       2.0           Low              Low   \n",
       "4                       1.0           Low              Low   \n",
       "\n",
       "  latest_wifi_version Bluetooth_version has_nfc USB_Type operating_system  \n",
       "0                   2       Less than 4     0.0   Type-B          Android  \n",
       "1                   2                 5     0.0   Type-C          Android  \n",
       "2                   1       Less than 4     1.0   Type-C          Android  \n",
       "3                   1       Less than 4     0.0   Type-B          Android  \n",
       "4                   1       Less than 4     0.0   Type-B          Android  \n",
       "\n",
       "[5 rows x 62 columns]"
      ]
     },
     "execution_count": 58,
     "metadata": {},
     "output_type": "execute_result"
    }
   ],
   "source": [
    "df.head()"
   ]
  },
  {
   "cell_type": "code",
   "execution_count": 59,
   "id": "b05264a4",
   "metadata": {},
   "outputs": [],
   "source": [
    "df.to_csv('./../data/processed/After_05_Fixing_Categories.csv', index = False)"
   ]
  },
  {
   "cell_type": "code",
   "execution_count": null,
   "id": "0ec6a91b",
   "metadata": {},
   "outputs": [],
   "source": []
  }
 ],
 "metadata": {
  "kernelspec": {
   "display_name": "mobile-env",
   "language": "python",
   "name": "python3"
  },
  "language_info": {
   "codemirror_mode": {
    "name": "ipython",
    "version": 3
   },
   "file_extension": ".py",
   "mimetype": "text/x-python",
   "name": "python",
   "nbconvert_exporter": "python",
   "pygments_lexer": "ipython3",
   "version": "3.13.3"
  }
 },
 "nbformat": 4,
 "nbformat_minor": 5
}
