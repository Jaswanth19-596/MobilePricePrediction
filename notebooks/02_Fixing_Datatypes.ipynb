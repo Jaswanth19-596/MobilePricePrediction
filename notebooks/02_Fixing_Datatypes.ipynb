{
 "cells": [
  {
   "cell_type": "code",
   "execution_count": 1,
   "id": "d1c44e2c",
   "metadata": {},
   "outputs": [],
   "source": [
    "import numpy as np\n",
    "import pandas as pd"
   ]
  },
  {
   "cell_type": "code",
   "execution_count": 3,
   "id": "8aee8f31",
   "metadata": {},
   "outputs": [],
   "source": [
    "input_path = './../data/processed/After_01_.csv'\n",
    "df = pd.read_csv(input_path)"
   ]
  },
  {
   "cell_type": "markdown",
   "id": "d9cfa489",
   "metadata": {},
   "source": [
    "#### 1. PPI\n",
    "\n",
    "    - This column has some text values, and doesn't have proper numeric values in the column.\n",
    "    - Since i was not able to find the right values, i'm dropping these rows.\n",
    "    - After removing the unnecessary rows, convert it into integer column.\n"
   ]
  },
  {
   "cell_type": "code",
   "execution_count": 4,
   "id": "ea24cb6f",
   "metadata": {},
   "outputs": [],
   "source": [
    "df = df[df['PPI'].str.isnumeric() == True]\n",
    "df['PPI'] = df['PPI'].astype('int')"
   ]
  },
  {
   "cell_type": "code",
   "execution_count": null,
   "id": "616ec19e",
   "metadata": {},
   "outputs": [],
   "source": [
    "output_path = './../data/processed/After_02_Fixing_Datatypes.csv'\n",
    "df.to_csv(output_path, index = False)"
   ]
  },
  {
   "cell_type": "code",
   "execution_count": 5,
   "id": "03fbfab2",
   "metadata": {},
   "outputs": [
    {
     "data": {
      "text/plain": [
       "Index(['Name', 'MainCamera_Cameraspecs', 'SelfieCamera_Cameraspecs',\n",
       "       'SelfieCamera_Features', 'Sound_3.5mmjack', 'COMMS_WLAN',\n",
       "       'COMMS_Bluetooth', 'COMMS_NFC', 'COMMS_Radio', 'COMMS_USB', 'Colors',\n",
       "       'Brand', 'Model', 'has_GSM', 'has_UMTS', 'has_HSPA', 'has_LTE',\n",
       "       'has_5G', 'has_CDMA', 'has_CDMA2000', 'has_EVDO', 'number_of_sims',\n",
       "       'number_of_2g_bands', 'aws_support', 'number_of_3g_bands',\n",
       "       'is_foldable_phone', 'thickness', 'has_Nano_SIM', 'has_Micro_SIM',\n",
       "       'has_Mini_SIM', 'has_eSIM', 'has_SIM_Type_Specified', 'has_memory_card',\n",
       "       'memory_type_microSDXC', 'memory_type_microSDHC', 'memory_type_microSD',\n",
       "       'memory_type_SD', 'memory_type_Nano_Memory', 'Battery_Is_removable',\n",
       "       'Battery_Capacity', 'Battery_Type_Lithium', 'Sound_has_stereo_speakers',\n",
       "       'Parsed_Camera_Features', 'camera_hdr', 'camera_laser_af',\n",
       "       'camera_panorama', 'GPU_company', 'Number_of_cores', 'CPU_Brand',\n",
       "       'CPU_Transistor_Size', 'CPU_Model', 'Is_OS_Upgradable', 'os_version',\n",
       "       'Resolution_Width', 'Resolution_Height', 'PPI', 'Display_Size',\n",
       "       'Price_In_Dollars', 'has_8k', 'has_4k', 'has_1440p', 'has_1080p',\n",
       "       'has_720p', 'has_480p', 'has_EIS', 'has_HDR', 'has_stereo',\n",
       "       'has_dolby_vision', 'has_OIS', 'max_resolution', 'max_FPS', 'ram',\n",
       "       'Total_Pixels', 'number_of_camera_features', 'camera_has_led_flash',\n",
       "       'maincamera_mp', 'selfiecamera_mp', 'latest_wifi_version',\n",
       "       'Bluetooth_version', 'has_nfc', 'USB_Type'],\n",
       "      dtype='object')"
      ]
     },
     "execution_count": 5,
     "metadata": {},
     "output_type": "execute_result"
    }
   ],
   "source": [
    "df.columns"
   ]
  }
 ],
 "metadata": {
  "kernelspec": {
   "display_name": "mobile-env",
   "language": "python",
   "name": "python3"
  },
  "language_info": {
   "codemirror_mode": {
    "name": "ipython",
    "version": 3
   },
   "file_extension": ".py",
   "mimetype": "text/x-python",
   "name": "python",
   "nbconvert_exporter": "python",
   "pygments_lexer": "ipython3",
   "version": "3.13.3"
  }
 },
 "nbformat": 4,
 "nbformat_minor": 5
}
